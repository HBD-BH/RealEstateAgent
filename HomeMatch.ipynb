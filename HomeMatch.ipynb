{
 "cells": [
  {
   "cell_type": "markdown",
   "id": "a108af04",
   "metadata": {},
   "source": [
    "# Personalized Real-Estate Agent\n",
    "\n",
    "In this notebook, we will build a personalized real-estate agent. \n"
   ]
  },
  {
   "cell_type": "markdown",
   "id": "59c7b2c5",
   "metadata": {},
   "source": [
    "## Import statements and configuration"
   ]
  },
  {
   "cell_type": "code",
   "execution_count": 32,
   "id": "6554fd4c",
   "metadata": {},
   "outputs": [
    {
     "name": "stdout",
     "output_type": "stream",
     "text": [
      "Using API key from the `.env` file.\n",
      "Using API base URL from the `.env` file. - You're all set.\n"
     ]
    }
   ],
   "source": [
    "import os\n",
    "from dotenv import load_dotenv # To keep private keys private\n",
    "load_dotenv()\n",
    "# To store the generated listings in a csv file\n",
    "import csv\n",
    "import io\n",
    "import datetime\n",
    "\n",
    "openai_api_key = os.getenv(\"OPENAI_API_KEY\")\n",
    "openai_api_base = os.getenv(\"OPENAI_API_BASE\")\n",
    "\n",
    "if openai_api_key is not None:\n",
    "    print(f\"Using API key from the `.env` file.\")\n",
    "else:\n",
    "    print(\"OPENAI_API_KEY not found in environment variable. - Please set it up in the `.env` file.\")\n",
    "\n",
    "\n",
    "if openai_api_base is not None:\n",
    "    print(f\"Using API base URL from the `.env` file. - You're all set.\")\n",
    "else:\n",
    "    print(\"OPENAI_API_BASE not found in environment variable. - Please set it up in the `.env` file.\")\n",
    "\n",
    "from openai import OpenAI\n",
    "client = OpenAI(\n",
    "    base_url = openai_api_base,\n",
    "    api_key = openai_api_key\n",
    ")\n",
    "\n",
    "MODEL_NAME = \"gpt-3.5-turbo\"\n",
    "version = \"v2\"      # To make file names etc. unique\n",
    "LISTINGS_FILE = f\"listings_{version}.csv\"\n",
    "COLLECTION_NAME = \"listings\" # Name of the collection in the vector database\n",
    "PERSIST_DIRECTORY = \"chroma_db\" # Directory where the vector database is stored\n",
    "\n",
    "# LangChain components we are going to use\n",
    "# from langchain.llms import OpenAI\n",
    "from langchain_community.chat_models import ChatOpenAI      # Since langchain.llms/OpenAI is deprecated (also deprecated)\n",
    "from langchain.document_loaders.csv_loader import CSVLoader # To load the CSV file\n",
    "from langchain.vectorstores import Chroma                   # For vector database\n",
    "import chromadb                                             # For metadata-based retrieval\n",
    "import tiktoken                                             # For token counting, required by Chroma\n",
    "from langchain.embeddings.openai import OpenAIEmbeddings    # (Deprecated)\n",
    "EMBEDDINGS_MODEL_NAME = \"text-embedding-ada-002\"            # OpenAI's embedding model\n",
    "from langchain.text_splitter import CharacterTextSplitter   # To make embeddings more efficient\n",
    "from langchain.chains import RetrievalQA                    # To perform Retrieval-Augmented Generation (RAG) (deprecated)\n",
    "\n",
    "import pandas as pd\n",
    "import numpy as np\n",
    "\n",
    "COLLECT_USER_PREFERENCES = True         # Set to True to collect user preferences interactively\n",
    "\n",
    "COMPARISONS_FILE = \"comparisons.txt\"    # File to store the old and new listings for future reference.\n"
   ]
  },
  {
   "cell_type": "markdown",
   "id": "f1f103f0",
   "metadata": {},
   "source": [
    "## Generating Real Estate Listings\n",
    "\n",
    "First, we generate some fantasy listings using an LLM. The one example given is: "
   ]
  },
  {
   "cell_type": "code",
   "execution_count": null,
   "id": "53a8aa68",
   "metadata": {},
   "outputs": [],
   "source": [
    "listing_elements = [\"Unique ID\", \"Neighborhood\", \"Price\", \"Bedrooms\", \"Bathrooms\", \"House Size (in sqft)\", \"Description\", \"Neighborhood Description\"]\n",
    "\n",
    "listing_elements_text = \",\".join(listing_elements)\n",
    "\n",
    "example_listing = \"\"\"\n",
    "1,\"Green Oaks\",800000,3,2,2000,\"Welcome to this eco-friendly oasis nestled in the heart of Green Oaks. This charming 3-bedroom, 2-bathroom home boasts energy-efficient features such as solar panels and a well-insulated structure. Natural light floods the living spaces, highlighting the beautiful hardwood floors and eco-conscious finishes. The open-concept kitchen and dining area lead to a spacious backyard with a vegetable garden, perfect for the eco-conscious family. Embrace sustainable living without compromising on style in this Green Oaks gem.\",\"Green Oaks is a close-knit, environmentally-conscious community with access to organic grocery stores, community gardens, and bike paths. Take a stroll through the nearby Green Oaks Park or grab a cup of coffee at the cozy Green Bean Cafe. With easy access to public transportation and bike lanes, commuting is a breeze.\"\n",
    "\"\"\"\n",
    "\n",
    "num_listings = 30\n",
    "system_prompt = f\"\"\"\n",
    "You are a real-estate listing generator. Your task is to create realistic and diverse real estate listings for the area of Munich (Germany) and surroundings, based on the provided example. Each listing should include the following fields: Unique ID (an integer counter), Neighborhood, Price, Bedrooms, Bathrooms, House Size (in sqft), Description, and Neighborhood Description. The listings should be varied in terms of price, size, and neighborhood features.\n",
    "\"\"\"\n",
    "\n",
    "user_prompt = f\"\"\"\n",
    "Please generate {num_listings} real estate listings in the same format as the example below. The listings should be diverse and include various neighborhoods, prices, and features. Each listing should have a unique neighborhood description that highlights local amenities and attractions. The format should be csv-compatible, i.e., numbers should not contain commas, and text should be enclosed in double quotes if it contains commas. The listings should be realistic and reflect current market trends. Dollar values should not contain the $ sign. The listings should be in the following format: {listing_elements_text}\n",
    "Example Listing:\n",
    "{example_listing}\n",
    "\"\"\"\n",
    "\n",
    "messages = [\n",
    "    {\"role\": \"system\", \"content\": system_prompt},\n",
    "    {\"role\": \"user\", \"content\": user_prompt}\n",
    "]\n",
    "\n",
    "try:\n",
    "    response = client.chat.completions.create(\n",
    "        model=MODEL_NAME,\n",
    "        messages=messages\n",
    "    )\n",
    "\n",
    "    # To access the actual response text:\n",
    "    raw_listings = response.choices[0].message.content\n",
    "    print(raw_listings)\n",
    "except Exception as e:\n",
    "    print(f\"An error occurred: {e}\")\n",
    "\n",
    "\n",
    "\n"
   ]
  },
  {
   "cell_type": "markdown",
   "id": "93e31bb4",
   "metadata": {},
   "source": [
    "Next, we store the listings as a `.csv` file in order to retrieve them later."
   ]
  },
  {
   "cell_type": "code",
   "execution_count": 13,
   "id": "2b7c0454",
   "metadata": {},
   "outputs": [],
   "source": [
    "# Use io.StringIO to treat the string like a file\n",
    "\n",
    "string_io = io.StringIO(listing_elements_text + \"\\n\" + response.choices[0].message.content)\n",
    "\n",
    "# Open the output file for writing\n",
    "with open(LISTINGS_FILE, 'w', newline='', encoding='utf-8') as outfile:\n",
    "    # Create a CSV reader to read the string data\n",
    "    reader = csv.reader(string_io)\n",
    "\n",
    "    # Create a CSV writer to write to the file\n",
    "    writer = csv.writer(outfile)\n",
    "\n",
    "    # Read each row from the string data and write it to the file\n",
    "    for row in reader:\n",
    "        writer.writerow(row)"
   ]
  },
  {
   "cell_type": "markdown",
   "id": "b758ec78",
   "metadata": {},
   "source": [
    "If the listings are already generated, we can just read them from the csv file (code adapted from the course exercises on LangChain)"
   ]
  },
  {
   "cell_type": "code",
   "execution_count": 2,
   "id": "c9e913bb",
   "metadata": {},
   "outputs": [
    {
     "name": "stdout",
     "output_type": "stream",
     "text": [
      "[Document(metadata={'source': 'listings_v2.csv', 'row': 0}, page_content=\"Unique ID: 1\\nNeighborhood: Schwabing\\nPrice: 950000\\nBedrooms: 4\\nBathrooms: 2\\nHouse Size (in sqft): 1800\\nDescription: Stunning 4-bedroom, 2-bathroom modern home in the heart of Schwabing. This architecturally designed property features high ceilings, floor-to-ceiling windows, and a sleek chef's kitchen. Enjoy the spacious master suite with a luxurious en-suite bathroom. The landscaped backyard offers a private retreat perfect for entertaining guests or relaxing in the sun.\\nNeighborhood Description: Schwabing is known for its vibrant arts scene, upscale boutiques, and diverse culinary options. Residents can explore the Englischer Garten, one of the world's largest urban parks, or attend performances at the renowned theaters in the area. Cafes, galleries, and bike-friendly streets make Schwabing a desirable location for those seeking a dynamic urban lifestyle.\"), Document(metadata={'source': 'listings_v2.csv', 'row': 1}, page_content='Unique ID: 2\\nNeighborhood: Glockenbachviertel\\nPrice: 650000\\nBedrooms: 2\\nBathrooms: 1\\nHouse Size (in sqft): 1200\\nDescription: Cozy 2-bedroom, 1-bathroom loft-style apartment in the trendy Glockenbachviertel neighborhood. This charming space features exposed brick walls, hardwood floors, and an updated kitchen with stainless steel appliances. The open layout creates a modern and inviting atmosphere, ideal for urban living in Munich.\\nNeighborhood Description: Glockenbachviertel is a hip neighborhood known for its lively nightlife, eclectic shops, and cozy cafes. Residents can explore the vintage stores and art galleries scattered throughout the area or unwind in the nearby green spaces like the Isar River banks. The vibrant street art and cultural events make Glockenbachviertel a hub for creative minds and social butterflies.'), Document(metadata={'source': 'listings_v2.csv', 'row': 2}, page_content='Unique ID: 3\\nNeighborhood: Haidhausen\\nPrice: 1250000\\nBedrooms: 5\\nBathrooms: 3\\nHouse Size (in sqft): 2500\\nDescription: Luxurious 5-bedroom, 3-bathroom family home in the desirable Haidhausen district. This spacious property exudes elegance with its grand foyer, formal dining room, and expansive living areas. The gourmet kitchen features top-of-the-line appliances and a large island, perfect for hosting gatherings. Retreat to the private master suite with a spa-like en-suite bathroom and walk-in closet.\\nNeighborhood Description: Haidhausen is a chic neighborhood renowned for its historic charm, boutique shops, and upscale dining options. Residents can explore the cultural institutions like the Gasteig cultural center or take a leisurely stroll along the charming streets lined with colorful Altbau buildings. With easy access to public transportation and proximity to the city center, Haidhausen offers a perfect blend of sophistication and convenience.'), Document(metadata={'source': 'listings_v2.csv', 'row': 3}, page_content='Unique ID: 4\\nNeighborhood: Neuhausen\\nPrice: 550000\\nBedrooms: 3\\nBathrooms: 2\\nHouse Size (in sqft): 1500\\nDescription: Charming 3-bedroom, 2-bathroom townhouse in the cozy Neuhausen neighborhood. This well-maintained property features a sunlit living room, updated kitchen, and a private backyard oasis. The bedrooms offer ample space and comfort, making it an ideal home for a growing family or those looking for a peaceful retreat within the city limits.\\nNeighborhood Description: Neuhausen is a picturesque district known for its relaxed vibe, leafy streets, and array of local bakeries and cafes. Residents can enjoy leisurely walks in the Nymphenburg Palace gardens or discover hidden gems in the vibrant quarter of Rotkreuzplatz. With a strong sense of community and proximity to schools and parks, Neuhausen provides a welcoming environment for families and nature enthusiasts alike.'), Document(metadata={'source': 'listings_v2.csv', 'row': 4}, page_content='Unique ID: 5\\nNeighborhood: Sendling\\nPrice: 720000\\nBedrooms: 3\\nBathrooms: 2\\nHouse Size (in sqft): 1700\\nDescription: Modern 3-bedroom, 2-bathroom penthouse with panoramic views in the bustling Sendling neighborhood. This contemporary property boasts high-end finishes, a spacious open-concept layout, and a private rooftop terrace for al fresco dining and relaxation. The master suite features a walk-in closet and a luxurious bathroom with a soaking tub and dual vanities.\\nNeighborhood Description: Sendling is a dynamic district with a mix of residential charm and commercial activity. Residents can explore the local markets, breweries, and artisanal shops that dot the streets or unwind in the green spaces like Westpark. The convenient location provides easy access to public transportation, making commuting a breeze for professionals and families alike.'), Document(metadata={'source': 'listings_v2.csv', 'row': 5}, page_content='Unique ID: 6\\nNeighborhood: Obergiesing\\nPrice: 480000\\nBedrooms: 2\\nBathrooms: 1\\nHouse Size (in sqft): 1000\\nDescription: Quaint 2-bedroom, 1-bathroom cottage-style home in the historic neighborhood of Obergiesing. This cozy residence features period details, a bright and airy living room, and a well-appointed kitchen with vintage charm. The outdoor patio offers a private escape for outdoor dining or gardening enthusiasts.\\nNeighborhood Description: Obergiesing is a charming district with a rich history and a strong sense of community. Residents can explore the local taverns, traditional beer gardens, and family-owned businesses that give the area its unique character. Parks and playgrounds provide ample recreation opportunities, while the nearby EFA Museums offer cultural enrichment for all ages. Experience a mix of old-world charm and modern conveniences in Obergiesing.'), Document(metadata={'source': 'listings_v2.csv', 'row': 6}, page_content=\"Unique ID: 7\\nNeighborhood: Maxvorstadt\\nPrice: 850000\\nBedrooms: 3\\nBathrooms: 2\\nHouse Size (in sqft): 1600\\nDescription: Sophisticated 3-bedroom, 2-bathroom apartment in the cultural hub of Maxvorstadt. This stylish residence boasts a blend of historic details and contemporary finishes, including parquet floors, high ceilings, and designer lighting. The gourmet kitchen is a chef's dream with custom cabinetry and premium appliances. Unwind in the serene master suite with a spa-like en-suite bathroom.\\nNeighborhood Description: Maxvorstadt is a vibrant neighborhood known for its world-class museums, iconic architecture, and trendy cafes. Residents can explore the art galleries, university campuses, and cultural landmarks that define this intellectual enclave. With Michelin-starred restaurants, boutique shops, and green spaces like the Hofgarten, Maxvorstadt offers a sophisticated urban lifestyle with a touch of artistic flair.\"), Document(metadata={'source': 'listings_v2.csv', 'row': 7}, page_content='Unique ID: 8\\nNeighborhood: Bogenhausen\\nPrice: 1600000\\nBedrooms: 4\\nBathrooms: 3\\nHouse Size (in sqft): 2800\\nDescription: Elegant 4-bedroom, 3-bathroom villa in the prestigious neighborhood of Bogenhausen. This grand residence features a sweeping staircase, formal living and dining areas, and a gourmet kitchen with high-end appliances. The master suite offers a private balcony, a luxurious spa bathroom, and a spacious walk-in closet. The lush landscaped gardens and outdoor pool provide a resort-like oasis for relaxation and entertainment.\\nNeighborhood Description: Bogenhausen is a sought-after district known for its upscale residences, exclusive boutiques, and proximity to the English Garden. Residents can enjoy luxury shopping at the nearby Prinzregentenstrasse or savor fine dining experiences in the Michelin-starred restaurants scattered throughout the area. With easy access to international schools, private clinics, and recreational facilities, Bogenhausen epitomizes refined living in Munich.'), Document(metadata={'source': 'listings_v2.csv', 'row': 8}, page_content=\"Unique ID: 9\\nNeighborhood: Untergiesing\\nPrice: 420000\\nBedrooms: 2\\nBathrooms: 1\\nHouse Size (in sqft): 900\\nDescription: Charming 2-bedroom, 1-bathroom bungalow in the cozy neighborhood of Untergiesing. This vintage home features original hardwood floors, a sun-filled living room, and a retro-style kitchen with colorful tiles. The outdoor deck is ideal for hosting summer barbecues or enjoying morning coffee amidst the tranquil garden setting.\\nNeighborhood Description: Untergiesing is a laid-back district with a village-like atmosphere and a strong sense of community. Residents can explore the local markets, beer gardens, and cultural events that showcase the area's Bavarian heritage. The nearby Isar River offers opportunities for outdoor recreation, while the family-friendly amenities and proximity to public transportation make Untergiesing a desirable location for young families and nature lovers.\"), Document(metadata={'source': 'listings_v2.csv', 'row': 9}, page_content='Unique ID: 10\\nNeighborhood: Schwabing-West\\nPrice: 1100000\\nBedrooms: 3\\nBathrooms: 2\\nHouse Size (in sqft): 2000\\nDescription: Contemporary 3-bedroom, 2-bathroom penthouse with skyline views in the sought-after Schwabing-West district. This chic property boasts high ceilings, hardwood floors, and designer finishes throughout. The expansive terrace provides an outdoor retreat for dining and lounging, while the sleek kitchen is equipped with top-of-the-line appliances and a breakfast bar for casual meals.\\nNeighborhood Description: Schwabing-West is a prestigious neighborhood known for its upscale residences, leafy boulevards, and cosmopolitan flair. Residents can indulge in the trendy boutiques, gourmet restaurants, and cultural venues that line the streets or unwind in the tranquil green spaces like Luitpoldpark. With a mix of historic charm and modern amenities, Schwabing-West offers a sophisticated urban lifestyle in the heart of Munich.'), Document(metadata={'source': 'listings_v2.csv', 'row': 10}, page_content='Unique ID: 11\\nNeighborhood: Milbertshofen-Am Hart\\nPrice: 690000\\nBedrooms: 3\\nBathrooms: 2\\nHouse Size (in sqft): 1600\\nDescription: Modern 3-bedroom, 2-bathroom townhouse in the diverse neighborhood of Milbertshofen-Am Hart. This recently renovated home features an open-concept floor plan, a contemporary kitchen with stainless steel appliances, and a private patio for outdoor gatherings. The generous bedrooms provide comfort and privacy for residents seeking a balance of urban convenience and suburban tranquility.\\nNeighborhood Description: Milbertshofen-Am Hart is a multicultural district with a variety of dining options, shopping centers, and recreational facilities. Residents can explore the local markets, sports complexes, and parks that cater to diverse interests and ages. The proximity to public transportation hubs and highways makes commuting easy, while the nearby Olympiapark offers a range of cultural and sporting events for residents to enjoy.'), Document(metadata={'source': 'listings_v2.csv', 'row': 11}, page_content='Unique ID: 12\\nNeighborhood: Solln\\nPrice: 780000\\nBedrooms: 4\\nBathrooms: 2\\nHouse Size (in sqft): 1800\\nDescription: Spacious 4-bedroom, 2-bathroom family home in the tranquil suburb of Solln. This well-maintained property features a formal living room, a cozy family room with a fireplace, and an updated kitchen with granite countertops. The expansive backyard offers a lush retreat with a patio area for outdoor dining and lounging.\\nNeighborhood Description: Solln is a peaceful residential area with a mix of modern amenities and natural surroundings. Residents can enjoy leisurely walks in the nearby Perlacher Forst forest or explore the local boutiques and cafes that cater to family-friendly tastes. The excellent schools, sports clubs, and community events make Solln a desirable location for families looking for a suburban lifestyle within reach of the city center.'), Document(metadata={'source': 'listings_v2.csv', 'row': 12}, page_content='Unique ID: 13\\nNeighborhood: Harlaching\\nPrice: 1350000\\nBedrooms: 5\\nBathrooms: 3\\nHouse Size (in sqft): 2500\\nDescription: Luxurious 5-bedroom, 3-bathroom villa in the upscale neighborhood of Harlaching. This elegant residence offers a grand foyer, formal dining room, and a spacious great room with views of the landscaped gardens. The gourmet kitchen is equipped with top-of-the-line appliances and a large center island for culinary enthusiasts. Retreat to the opulent master suite with a private terrace, a spa-like bathroom, and a custom walk-in closet.\\nNeighborhood Description: Harlaching is an exclusive district known for its luxury residences, private schools, and tranquil green spaces. Residents can enjoy golfing at the nearby Perlacher Forst Club or explore the cultural attractions like the Villa Stuck museum. The upscale boutiques, gourmet restaurants, and wellness centers provide residents with a high standard of living in a serene and picturesque setting.'), Document(metadata={'source': 'listings_v2.csv', 'row': 13}, page_content='Unique ID: 14\\nNeighborhood: Moosach\\nPrice: 590000\\nBedrooms: 3\\nBathrooms: 2\\nHouse Size (in sqft): 1400\\nDescription: Bright and airy 3-bedroom, 2-bathroom duplex in the up-and-coming neighborhood of Moosach. This contemporary home features an open living area with high ceilings, a modern kitchen with sleek cabinetry, and a private balcony for outdoor relaxation. The bedrooms offer ample space and natural light, creating a comfortable retreat for residents seeking a blend of urban convenience and residential charm.\\nNeighborhood Description: Moosach is a dynamic district with a mix of historic landmarks, shopping centers, and cultural diversity. Residents can explore the local markets, beer gardens, and recreational facilities that cater to families and young professionals alike. The proximity to public transportation hubs and highways makes commuting a breeze, while the green spaces like the Olympic Park provide opportunities for outdoor activities and community events.'), Document(metadata={'source': 'listings_v2.csv', 'row': 14}, page_content='Unique ID: 15\\nNeighborhood: Laim\\nPrice: 690000\\nBedrooms: 3\\nBathrooms: 2\\nHouse Size (in sqft): 1600\\nDescription: Contemporary 3-bedroom, 2-bathroom townhouse in the leafy neighborhood of Laim. This stylish property features an open-concept layout, designer finishes, and a gourmet kitchen with quartz countertops and premium appliances. The private rooftop terrace offers views of the surrounding greenery, while the master suite provides a peaceful retreat with a spa-like bathroom and a walk-in closet.\\nNeighborhood Description: Laim is a residential district known for its tranquil streets, local markets, and proximity to the Nymphenburg Palace gardens. Residents can enjoy leisurely walks along the Wurm River or visit the charming boutiques and cafes that line the neighborhood streets. With easy access to schools, parks, and public transportation, Laim offers a comfortable and convenient lifestyle for families and nature enthusiasts.'), Document(metadata={'source': 'listings_v2.csv', 'row': 15}, page_content='Unique ID: 16\\nNeighborhood: Thalkirchen-Obersendling-Forstenried-Fürstenried-Solln\\nPrice: 980000\\nBedrooms: 4\\nBathrooms: 3\\nHouse Size (in sqft): 2200\\nDescription: Spacious 4-bedroom, 3-bathroom villa in the scenic district of Thalkirchen-Obersendling-Forstenried-Fürstenried-Solln. This elegant home features a formal living room, a separate dining area, and a gourmet kitchen with granite countertops and a breakfast nook. The expansive backyard offers a serene escape with a pool, spa, and outdoor kitchen for entertaining guests and enjoying the Bavarian landscape.\\nNeighborhood Description: Thalkirchen-Obersendling-Forstenried-Fürstenried-Solln is a diverse district with a mix of urban amenities and natural beauty. Residents can explore the Isar River banks, the Tierpark Hellabrunn zoo, and the recreational facilities that cater to outdoor enthusiasts and families. The proximity to international schools, sports clubs, and medical centers makes Thalkirchen-Obersendling-Forstenried-Fürstenried-Solln a sought-after location for upscale living in Munich.'), Document(metadata={'source': 'listings_v2.csv', 'row': 16}, page_content=\"Unique ID: 17\\nNeighborhood: Altstadt-Lehel\\nPrice: 1750000\\nBedrooms: 5\\nBathrooms: 4\\nHouse Size (in sqft): 3000\\nDescription: Luxurious 5-bedroom, 4-bathroom penthouse in the historic district of Altstadt-Lehel. This sophisticated residence boasts a formal entryway, a grand living room with a fireplace, and a gourmet kitchen with marble countertops and custom cabinetry. The expansive terrace offers panoramic views of the city skyline, while the master suite provides a private retreat with a spa-like en-suite bathroom and dual walk-in closets.\\nNeighborhood Description: Altstadt-Lehel is Munich's most exclusive neighborhood, known for its historic landmarks, upscale boutiques, and Michelin-starred restaurants. Residents can explore the iconic Marienplatz square, the Viktualienmarkt food market, and the cultural institutions like the Residenz Palace. With luxury shopping on Maximilianstrasse and proximity to the English Garden, Altstadt-Lehel offers a sophisticated urban lifestyle steeped in history and elegance.\"), Document(metadata={'source': 'listings_v2.csv', 'row': 17}, page_content='Unique ID: 18\\nNeighborhood: Hadern\\nPrice: 550000\\nBedrooms: 3\\nBathrooms: 2\\nHouse Size (in sqft): 1500\\nDescription: Charming 3-bedroom, 2-bathroom cottage-style home in the peaceful suburb of Hadern. This well-appointed property features a cozy living room, a country-style kitchen with modern appliances, and a sunlit dining area overlooking the garden. The outdoor patio provides a tranquil space for outdoor dining and relaxation amidst the lush landscaping.\\nNeighborhood Description: Hadern is a residential enclave known for its family-friendly atmosphere, local markets, and green spaces. Residents can enjoy picnics in the Westpark, visit the educational institutions like the Ludwig Maximilian University, or explore the nearby botanical gardens. With a mix of traditional Bavarian architecture and modern conveniences, Hadern offers a serene and welcoming environment for families and nature lovers.'), Document(metadata={'source': 'listings_v2.csv', 'row': 18}, page_content=\"Unique ID: 19\\nNeighborhood: Freimann\\nPrice: 720000\\nBedrooms: 4\\nBathrooms: 2\\nHouse Size (in sqft): 1700\\nDescription: Modern 4-bedroom, 2-bathroom duplex in the up-and-coming neighborhood of Freimann. This contemporary home features an open living area with sleek finishes, a designer kitchen with quartz countertops, and a private terrace for outdoor entertaining. The bedrooms are spacious and bright, offering residents comfort and privacy in a thoughtfully designed space.\\nNeighborhood Description: Freimann is a vibrant district with a mix of residential developments, technology parks, and cultural amenities. Residents can explore the local breweries, restaurants, and art galleries that showcase the area's creative spirit or unwind in the green spaces like the Riemer Park. The proximity to public transportation hubs and highways makes commuting easy, while the family-friendly atmosphere and educational institutions cater to diverse lifestyles and interests.\"), Document(metadata={'source': 'listings_v2.csv', 'row': 19}, page_content=\"Unique ID: 20\\nNeighborhood: Schwanthalerhöhe-Laim\\nPrice: 890000\\nBedrooms: 3\\nBathrooms: 2\\nHouse Size (in sqft): 1900\\nDescription: Stylish 3-bedroom, 2-bathroom loft in the trendy district of Schwanthalerhöhe-Laim. This industrial-chic residence features exposed brick walls, concrete floors, and oversized windows that flood the space with natural light. The open kitchen is equipped with modern appliances and a breakfast bar, while the master suite offers a private retreat with a luxurious en-suite bathroom.\\nNeighborhood Description: Schwanthalerhöhe-Laim is a lively neighborhood known for its hip cafes, art studios, and cultural events. Residents can explore the vibrant street art, vintage boutiques, and music venues that define the area's creative vibe or unwind in the green spaces like the Hirschgarten. With easy access to public transportation and proximity to the city center, Schwanthalerhöhe-Laim offers an urban lifestyle with a touch of artistic flair.\"), Document(metadata={'source': 'listings_v2.csv', 'row': 20}, page_content='Unique ID: 21\\nNeighborhood: Pasing-Obermenzing\\nPrice: 580000\\nBedrooms: 3\\nBathrooms: 2\\nHouse Size (in sqft): 1400\\nDescription: Bright and airy 3-bedroom, 2-bathroom apartment in the tranquil district of Pasing-Obermenzing. This contemporary home features an open-concept layout, high ceilings, and a modern kitchen with stainless steel appliances. The private balcony offers views of the surrounding greenery, while the master suite provides a peaceful retreat with a spa-like bathroom and ample closet space.\\nNeighborhood Description: Pasing-Obermenzing is a residential area with a mix of historic charm, local markets, and recreational facilities. Residents can enjoy leisurely walks in the Nymphenburg Palace gardens, visit the local boutiques and cafes, or explore the nearby amenities like the Pasing Arcaden shopping center. With excellent schools, parks, and public transportation options, Pasing-Obermenzing provides a comfortable and convenient lifestyle for families and nature enthusiasts.'), Document(metadata={'source': 'listings_v2.csv', 'row': 21}, page_content='Unique ID: 22\\nNeighborhood: Allach-Untermenzing\\nPrice: 690000\\nBedrooms: 4\\nBathrooms: 2\\nHouse Size (in sqft): 1600\\nDescription: Classic 4-bedroom, 2-bathroom family home in the serene neighborhood of Allach-Untermenzing. This charming property features a formal living room, a cozy family room with a fireplace, and a spacious kitchen with oak cabinetry. The outdoor patio and garden offer a peaceful retreat for outdoor dining and relaxation amidst the mature landscaping.\\nNeighborhood Description: Allach-Untermenzing is a suburban district known for its tranquil streets, local markets, and proximity to nature reserves. Residents can enjoy leisurely strolls along the Würm River, visit the local breweries and restaurants that showcase Bavarian hospitality, or participate in community events at the neighborhood centers. With a mix of traditional architecture and modern amenities, Allach-Untermenzing provides a welcoming environment for families and outdoor enthusiasts.'), Document(metadata={'source': 'listings_v2.csv', 'row': 22}, page_content=\"Unique ID: 23\\nNeighborhood: München-Mitte\\nPrice: 2100000\\nBedrooms: 5\\nBathrooms: 4\\nHouse Size (in sqft): 3200\\nDescription: Luxurious 5-bedroom, 4-bathroom penthouse in the prestigious district of München-Mitte. This expansive residence features a grand foyer, a formal dining room, and a gourmet kitchen with custom cabinetry and premium appliances. The master suite offers a private terrace, a spa-like bathroom, and dual walk-in closets, while the rooftop deck provides panoramic views of the city skyline.\\nNeighborhood Description: München-Mitte is Munich's central district, known for its upscale residences, luxury boutiques, and cultural landmarks. Residents can explore the historic Marienplatz square, the upscale shopping on Maximilianstrasse, and the world-renowned theaters and opera houses that define the city's cultural scene. With a mix of historic charm and modern sophistication, München-Mitte offers a cosmopolitan lifestyle in the heart of the Bavarian capital.\"), Document(metadata={'source': 'listings_v2.csv', 'row': 23}, page_content='Unique ID: 24\\nNeighborhood: Berg am Laim\\nPrice: 620000\\nBedrooms: 3\\nBathrooms: 2\\nHouse Size (in sqft): 1450\\nDescription: Cozy 3-bedroom, 2-bathroom townhouse in the charming neighborhood of Berg am Laim. This inviting property features a sunlit living room, a modern kitchen with stainless steel appliances, and a private patio for outdoor gatherings. The bedrooms offer comfort and privacy, making it an ideal home for families or those seeking a peaceful retreat within the city limits.\\nNeighborhood Description: Berg am Laim is a residential enclave with a mix of historic architecture, local bakeries, and green spaces. Residents can enjoy picnics in the nearby Ostpark, visit the local markets and')]\n"
     ]
    }
   ],
   "source": [
    "# If using a pandas DataFrame, this would do it.\n",
    "# df = pd.read_csv(LISTINGS_FILE)\n",
    "\n",
    "# We are going to use LangChain, so we do this:\n",
    "loader = CSVLoader(file_path=LISTINGS_FILE, encoding=\"utf-8\", csv_args={\"delimiter\": \",\"})\n",
    "docs = loader.load()\n",
    "print(docs)\n"
   ]
  },
  {
   "cell_type": "markdown",
   "id": "a7c89827",
   "metadata": {},
   "source": [
    "## Storing Listings in a Vector Database\n",
    "We now have loaded the generated listings and want to store them in a vector database."
   ]
  },
  {
   "cell_type": "code",
   "execution_count": 3,
   "id": "7b77bc19",
   "metadata": {},
   "outputs": [
    {
     "name": "stderr",
     "output_type": "stream",
     "text": [
      "C:\\Users\\bernh\\AppData\\Local\\Temp\\ipykernel_1392\\2812984402.py:1: LangChainDeprecationWarning: The class `OpenAIEmbeddings` was deprecated in LangChain 0.0.9 and will be removed in 1.0. An updated version of the class exists in the :class:`~langchain-openai package and should be used instead. To use it run `pip install -U :class:`~langchain-openai` and import as `from :class:`~langchain_openai import OpenAIEmbeddings``.\n",
      "  embeddings = OpenAIEmbeddings(\n"
     ]
    }
   ],
   "source": [
    "embeddings = OpenAIEmbeddings(\n",
    "    openai_api_key=openai_api_key,\n",
    "    openai_api_base=openai_api_base,\n",
    "    model=EMBEDDINGS_MODEL_NAME,\n",
    "    #chunk_size=1,  # This is important for Chroma\n",
    "    max_retries=3, # Number of retries for embedding requests\n",
    "    request_timeout=60, # Timeout for embedding requests\n",
    ")\n",
    "# Splitting the data to make embeddings more efficient\n",
    "splitter = CharacterTextSplitter(\n",
    "                chunk_size=1000,\n",
    "                chunk_overlap=0\n",
    "            )\n",
    "split_docs = splitter.split_documents(docs)\n",
    "db = Chroma.from_documents(split_docs, embeddings, \n",
    "                           collection_name=COLLECTION_NAME, \n",
    "                           persist_directory=PERSIST_DIRECTORY\n",
    "                           )\n"
   ]
  },
  {
   "cell_type": "markdown",
   "id": "805d9dc3",
   "metadata": {},
   "source": [
    "## Building the User Preference Interface\n",
    "We now collect user preferences. We can either use hard-coded question and answer pairs, or generate them, interactively, at runtime."
   ]
  },
  {
   "cell_type": "code",
   "execution_count": 4,
   "id": "73acb66e",
   "metadata": {},
   "outputs": [],
   "source": [
    "questions = [   \n",
    "    \"How big do you want your house to be?\",\n",
    "    \"What are 3 most important things for you in choosing this property?\", \n",
    "    \"Which amenities would you like?\", \n",
    "    \"Which transportation options are important to you?\",\n",
    "    \"How urban do you want your neighborhood to be?\",   \n",
    "    \"Do you have an upper price target?\",   \n",
    "]\n",
    "\n",
    "answers = []\n",
    "if COLLECT_USER_PREFERENCES:\n",
    "    # Collect user preferences interactively\n",
    "    for question in questions:\n",
    "        answer = input(question + \" \")\n",
    "        answers.append(answer)\n",
    "else:\n",
    "    answers = [\n",
    "        \"A comfortable three-bedroom house with a spacious kitchen and a cozy living room.\",\n",
    "        \"A quiet neighborhood, good local schools, and convenient shopping options.\",\n",
    "        \"A backyard for gardening, a two-car garage, and a modern, energy-efficient heating system.\",\n",
    "        \"Easy access to a reliable bus line, proximity to a major highway, and bike-friendly roads.\",\n",
    "        \"A balance between suburban tranquility and access to urban amenities like restaurants and theaters.\",\n",
    "        \"It should be under $1,000,000.\"\n",
    "    ]\n",
    "\n",
    "history = \"\" # \"You are an AI real estate assistant. Following is a conversation between you and a human. You are helping the human find a property that meets their needs.\\n\\n\"\n",
    "for i in range(len(questions)):\n",
    "    history = history + \"AI: \" + questions[i] + \"\\n\" + \"Human: \" + answers[i] + \"\\n\"\n"
   ]
  },
  {
   "cell_type": "markdown",
   "id": "96847341",
   "metadata": {},
   "source": [
    "## Searching based on preferences\n",
    "Now that we have the user preferences, we need to find the listings that most closely match with them. We do this using the `RetrievalQA` just as in the course."
   ]
  },
  {
   "cell_type": "code",
   "execution_count": 5,
   "id": "9715ef03",
   "metadata": {},
   "outputs": [
    {
     "name": "stderr",
     "output_type": "stream",
     "text": [
      "C:\\Users\\bernh\\AppData\\Local\\Temp\\ipykernel_1392\\16005837.py:2: LangChainDeprecationWarning: The class `ChatOpenAI` was deprecated in LangChain 0.0.10 and will be removed in 1.0. An updated version of the class exists in the :class:`~langchain-openai package and should be used instead. To use it run `pip install -U :class:`~langchain-openai` and import as `from :class:`~langchain_openai import ChatOpenAI``.\n",
      "  llm = ChatOpenAI(model_name=MODEL_NAME, temperature=temperature, max_tokens = 500)\n",
      "C:\\Users\\bernh\\AppData\\Local\\Temp\\ipykernel_1392\\16005837.py:20: LangChainDeprecationWarning: The method `Chain.run` was deprecated in langchain 0.1.0 and will be removed in 1.0. Use :meth:`~invoke` instead.\n",
      "  response = rag.run(query)\n"
     ]
    },
    {
     "name": "stdout",
     "output_type": "stream",
     "text": [
      "Based on the conversation history, the persona for the human can be described as someone who prefers a rather urban neighborhood with easy access to public transportation, bike-friendly roads, and green spaces. They are looking for a small house with a nice kitchen and a price below $600,000.\n",
      "\n",
      "The preferences captured in the answers to personal questions influenced the creation of this persona by highlighting the importance of urban living, accessibility to public transport, green environment, and a reasonable price point.\n",
      "\n",
      "I recommend listing number 24\n"
     ]
    }
   ],
   "source": [
    "temperature = 0.0\n",
    "llm = ChatOpenAI(model_name=MODEL_NAME, temperature=temperature, max_tokens = 500)\n",
    "rag = RetrievalQA.from_chain_type(llm=llm, chain_type=\"stuff\", retriever=db.as_retriever())\n",
    "\n",
    "query = f\"\"\"\n",
    "Based on the following conversation history, please find the best-matching real estate listing from the database. The conversation history is as follows:\n",
    "{history}\n",
    "\n",
    "SELECTION INSTRUCTIONS THAT MUST BE STRICTLY FOLLOWED:\n",
    "AI will provide a highly personalized recommendation based only on the conversation history and the existing listings in the database, as included in the context.\n",
    "AI should be very sensible to human personal preferences captured in the answers to personal questions, and should not be influenced by anything else.\n",
    "AI will also build a persona for human based on human answers to questions, and use this persona to recommend a listing.\n",
    "OUTPUT FORMAT:\n",
    "First, include the persona you came up with in the explanation for the listing choice. Describe the persona in a few sentences.\n",
    "Explain how human preferences captured in the answers to personal questions influenced creation of this persona.\n",
    "Next, add some data of the selected listing.\n",
    "YOUR RECOMMENDATION MUST END WITH TEXT: \"I recommend listing number \" FOLLOWED BY THE Unique ID of the selected listing in the database and no further punctuation marks.\n",
    "FOLLOW THE INSTRUCTIONS STRICTLY, OTHERWISE HUMAN WILL NOT BE ABLE TO UNDERSTAND YOUR REVIEW.\n",
    "\"\"\"\n",
    "response = rag.run(query)\n",
    "print(response)"
   ]
  },
  {
   "cell_type": "markdown",
   "id": "c826e7d7",
   "metadata": {},
   "source": [
    "## Personalize Listing Descriptions\n",
    "Lastly, we tailor the listing description to the buyer preferences as revealed via the conversation history, using our LLM."
   ]
  },
  {
   "cell_type": "code",
   "execution_count": 50,
   "id": "7e6551e6",
   "metadata": {},
   "outputs": [
    {
     "name": "stdout",
     "output_type": "stream",
     "text": [
      " Unique ID Neighborhood  Price  Bedrooms  Bathrooms  House Size (in sqft)                                                                                                                                                                                                                                                                                                                                                                     Description                                                                                                                                                                                                        Neighborhood Description\n",
      "        24 Berg am Laim 620000         3          2                  1450 Cozy 3-bedroom, 2-bathroom townhouse in the charming neighborhood of Berg am Laim. This inviting property features a sunlit living room, a modern kitchen with stainless steel appliances, and a private patio for outdoor gatherings. The bedrooms offer comfort and privacy, making it an ideal home for families or those seeking a peaceful retreat within the city limits. Berg am Laim is a residential enclave with a mix of historic architecture, local bakeries, and green spaces. Residents can enjoy picnics in the nearby Ostpark, visit the local markets and just relax in the cozy cafes around\n"
     ]
    }
   ],
   "source": [
    "recommended_entry_id=response[-8:] \n",
    "recommended_entry_id=recommended_entry_id[recommended_entry_id.find(\" \") + 1:]\n",
    "try:\n",
    "    recommended_entry_id = int(recommended_entry_id)\n",
    "    # print(f\"Recommended entry ID: {recommended_entry_id}\")\n",
    "except ValueError:\n",
    "    print(f\"Could not parse recommended entry ID from LLM response. Expected an integer, but got: {recommended_entry_id}\")\n",
    "\n",
    "try:\n",
    "    # This should work, but doesn't:\n",
    "    \"\"\"\n",
    "    chroma_client = chromadb.PersistentClient(\n",
    "        path=PERSIST_DIRECTORY,\n",
    "        )\n",
    "    collection = chroma_client.get_collection(name=COLLECTION_NAME)\n",
    "    recommended_listing = collection.get(where={\"Unique ID\": recommended_entry_id}, include=['metadatas', 'documents'])\n",
    "    \n",
    "    if recommended_listing and recommended_listing['ids']:\n",
    "        print(f\"Recommended listing found: {recommended_listing}\")\n",
    "    else:\n",
    "        print(f\"Entry with 'Unique ID' = {recommended_entry_id} not found in the database.\")\n",
    "    \"\"\"\n",
    "\n",
    "    # So, instead, we use a pandas DataFrame to get the recommended listing\n",
    "    df = pd.read_csv(LISTINGS_FILE, encoding=\"utf-8\")\n",
    "    recommended_listing = df[df['Unique ID'] == recommended_entry_id]\n",
    "\n",
    "except Exception as e:\n",
    "    print(f\"An error occurred while querying the database: {e}\")\n",
    "\n",
    "# Assuming reccommended_listing is a DataFrame, not a result from the collection query, see comment in try block above.\n",
    "if not recommended_listing.empty:\n",
    "    print(recommended_listing.to_string(index=False)) \n",
    "else:\n",
    "    print(f\"Entry with 'Unique ID' = {recommended_entry_id} not found in the database.\")\n"
   ]
  },
  {
   "cell_type": "code",
   "execution_count": 54,
   "id": "816bf126",
   "metadata": {},
   "outputs": [
    {
     "name": "stdout",
     "output_type": "stream",
     "text": [
      "Based on the human's preferences, the recommended listing has been tailored to focus on proximity to public transportation, green environment, and an urban setting. The description highlights these features along with emphasizing the ease of accessing the subway and bike-friendly roads, which were important transportation preferences for the human.\n",
      "\n",
      "```csv\n",
      "Unique ID,Neighborhood,Price,Bedrooms,Bathrooms,House Size (in sqft),Description,Neighborhood Description\n",
      "24,Berg am Laim,620000,3,2,1450,\"This inviting 3-bedroom, 2-bathroom townhouse in Berg am Laim offers a sunlit living room, a modern kitchen with stainless steel appliances, and a private patio. Ideal for those valuing a green environment and urban living. Easy access to subway and bike-friendly roads suit your transportation needs perfectly.\", \"Berg am Laim is a residential enclave with historic architecture, local bakeries, and green spaces. Picnics in nearby Ostpark, local markets, and cozy cafes cater to your preferences.\"\n",
      "```\n",
      "\n"
     ]
    }
   ],
   "source": [
    "final_prompt = f\"\"\"\n",
    "Based on the following conversation history, please rewrite the recommended listing to more closely match the human's preferences as revealed in the conversation history. \n",
    "Conversation history: \n",
    "{history}\n",
    "\n",
    "Recommended listing:\n",
    "{recommended_listing.to_string(index=False)}\n",
    "\n",
    "OTUPUT INSTRUCTIONS THAT MUST BE STRICTLY FOLLOWED:\n",
    "- AI will build a persona for a human based on the human answers in the conversation history, and then use this persona to rewrite the recommended listing. \n",
    "- AI will rewrite the recommended listing to make it more appealing to the human, based on the human's preferences as revealed in the conversation history. \n",
    "- AI will also report how the human's preferences influenced the rewriting of the listing.\n",
    "- AI will not change any of the factual information of the listing (like price, number of bedrooms, Unique ID, etc.), or invent any new information. \n",
    "- AI can, however, freely rewrite or restructure the given listing description or neighborhood description from the recommended listing. \n",
    "- The AI should respond with the whole listing, including all the fields as the original listing, like Unique ID, Neighborhood, Description, etc.. The output of the listing should be in CSV format. None of the factual information (like price, number of bedrooms, Unique ID, etc.) should be changed. All field values that contain a comma (especially 'Description' and 'Neighborhood Description') should be enclosed in double quotes. Numbers and prices should be formatted as numbers, so no commas or dollar signs should be included.\n",
    "- YOUR ANSWER MUST END WITH the listing in CSV format, surrounded by '```csv' in the line before the CSV data, and '```' in the line after the CSV data (i.e., on the last line of the output).\n",
    "FOLLOW THE INSTRUCTIONS STRICTLY.\n",
    "\"\"\"\n",
    "\n",
    "system_prompt = f\"\"\"\n",
    "You are a real-estate agent. Your task is to rewrite a real estate listing based on a given generic listing that caters to human preferences revealed via a conversation history. You should not make up any new information or alter any factual information as given in the original listing. \n",
    "\"\"\"\n",
    "\n",
    "\n",
    "messages = [\n",
    "    {\"role\": \"system\", \"content\": system_prompt},\n",
    "    {\"role\": \"user\", \"content\": final_prompt}\n",
    "]\n",
    "\n",
    "try:\n",
    "    new_response = client.chat.completions.create(\n",
    "        model=MODEL_NAME,\n",
    "        messages=messages\n",
    "    )\n",
    "\n",
    "    # To access the actual response text:\n",
    "    new_listing = new_response.choices[0].message.content\n",
    "    print(new_listing)\n",
    "except Exception as e:\n",
    "    print(f\"An error occurred: {e}\")\n",
    "\n"
   ]
  },
  {
   "cell_type": "markdown",
   "id": "7c0571ac",
   "metadata": {},
   "source": [
    "We now have our rewritten listing. We will \n",
    "- extract the new information from the response String\n",
    "- compare all facts to ensure they are not changed\n",
    "- Then print the old and new descriptions in order to see whether or not the LLM has taken the user preferences into account. "
   ]
  },
  {
   "cell_type": "code",
   "execution_count": null,
   "id": "ef83858c",
   "metadata": {},
   "outputs": [
    {
     "name": "stdout",
     "output_type": "stream",
     "text": [
      "Unique ID,Neighborhood,Price,Bedrooms,Bathrooms,House Size (in sqft),Description,Neighborhood Description\n",
      "24,Berg am Laim,620000,3,2,1450,\"This inviting 3-bedroom, 2-bathroom townhouse in Berg am Laim offers a sunlit living room, a modern kitchen with stainless steel appliances, and a private patio. Ideal for those valuing a green environment and urban living. Easy access to subway and bike-friendly roads suit your transportation needs perfectly.\", \"Berg am Laim is a residential enclave with historic architecture, local bakeries, and green spaces. Picnics in nearby Ostpark, local markets, and cozy cafes cater to your preferences.\"\n",
      "Field name               - Old Value       - New value\n",
      "Unique ID                - 24              - 2         \n",
      "Neighborhood             - Berg am Laim    - 1450      \n",
      "Price                    - 620000          - This inviting 3-bedroom, 2-bathroom townhouse in Berg am Laim offers a sunlit living room, a modern kitchen with stainless steel appliances, and a private patio. Ideal for those valuing a green environment and urban living. Easy access to subway and bike-friendly roads suit your transportation needs perfectly.\n",
      "Bedrooms                 - 3               -  \"Berg am Laim is a residential enclave with historic architecture\n",
      "Bathrooms                - 2               -  local bakeries\n",
      "House Size (in sqft)     - 1450            -  and green spaces. Picnics in nearby Ostpark\n",
      "Description              - Cozy 3-bedroom, 2-bathroom townhouse in the charming neighborhood of Berg am Laim. This inviting property features a sunlit living room, a modern kitchen with stainless steel appliances, and a private patio for outdoor gatherings. The bedrooms offer comfort and privacy, making it an ideal home for families or those seeking a peaceful retreat within the city limits. -  local markets\n",
      "Neighborhood Description - Berg am Laim is a residential enclave with a mix of historic architecture, local bakeries, and green spaces. Residents can enjoy picnics in the nearby Ostpark, visit the local markets and just relax in the cozy cafes around -  and cozy cafes cater to your preferences.\"\n",
      "\n"
     ]
    }
   ],
   "source": [
    "try:\n",
    "    csv_data = new_listing.split('```csv')[1].strip().split('```')[0].strip()\n",
    "    df_new = pd.read_csv(io.StringIO(csv_data), encoding=\"utf-8\")\n",
    "except Exception as e:\n",
    "    print(f\"An error occurred while parsing the CSV data from the LLM response: {e}\")\n",
    "\n",
    "df_new.head() \n",
    "\n",
    "comparison1 = \"Field name               - Old Value       - New value\\n\"\n",
    "for column_name, new_value in df_new.iloc[0].items():\n",
    "    try: \n",
    "        old_value = recommended_listing.iloc[0]\n",
    "        comparison1 = comparison1 + f\"{column_name:<24} - {recommended_listing.iloc[0][column_name]:<15} - {new_value:<10}\\n\"\n",
    "    except Exception as e:\n",
    "        comparison1 = comparison1 + f\"An error occurred while accessing the original listing: {e}\\n\"\n",
    "print(comparison1)"
   ]
  },
  {
   "cell_type": "markdown",
   "id": "3cb02ad4",
   "metadata": {},
   "source": [
    "The factual information looks good, let's reformat the descriptions in order to see whether the descriptions somehow match the user preferences."
   ]
  },
  {
   "cell_type": "code",
   "execution_count": 44,
   "id": "a3be1e3d",
   "metadata": {},
   "outputs": [
    {
     "name": "stdout",
     "output_type": "stream",
     "text": [
      "-----------------------\n",
      "Conversation history: \n",
      "AI: How big do you want your house to be?\n",
      "Human: small is enough\n",
      "AI: What are 3 most important things for you in choosing this property?\n",
      "Human: public transport should be reachable by foot, green environment, and the price below 600000\n",
      "AI: Which amenities would you like?\n",
      "Human: a nice kitchen\n",
      "AI: Which transportation options are important to you?\n",
      "Human: Easy access to the subway, and bike-friendly roads\n",
      "AI: How urban do you want your neighborhood to be?\n",
      "Human: rather urban\n",
      "AI: Do you have an upper price target?\n",
      "Human: 600000 dollars\n",
      "\n",
      "\n",
      "-----------------------\n",
      "Direct comparison: \n",
      "Field name               - Old Value       - New value\n",
      "Unique ID                - 24              - 24        \n",
      "Neighborhood             - Berg am Laim    - Berg am Laim\n",
      "Price                    - 620000          - 620000    \n",
      "Bedrooms                 - 3               - 3         \n",
      "Bathrooms                - 2               - 2         \n",
      "House Size (in sqft)     - 1450            - 1450      \n",
      "Description              - Cozy 3-bedroom, 2-bathroom townhouse in the charming neighborhood of Berg am Laim. This inviting property features a sunlit living room, a modern kitchen with stainless steel appliances, and a private patio for outdoor gatherings. The bedrooms offer comfort and privacy, making it an ideal home for families or those seeking a peaceful retreat within the city limits. - Cozy 3-bedroom, 2-bathroom townhouse in the charming neighborhood of Berg am Laim. This inviting property features a sunlit living room, a modern kitchen with stainless steel appliances, and a private patio for outdoor gatherings. The bedrooms offer comfort and privacy, making it an ideal home for families or those seeking a peaceful retreat within the city limits. Berg am Laim is a rather urban residential enclave with a mix of historic architecture, local bakeries, and green spaces. Residents can enjoy picnics in the nearby Ostpark, visit the local markets and\n",
      "Neighborhood Description - Berg am Laim is a residential enclave with a mix of historic architecture, local bakeries, and green spaces. Residents can enjoy picnics in the nearby Ostpark, visit the local markets and - Berg am Laim is a rather urban residential enclave with historical charm, offering easy access to public transport, including the subway. Enjoy the green spaces and local bakeries while being just a short commute away from the bustling city center.\n",
      "\n",
      "\n",
      "-----------------------\n",
      "Old description: \n",
      "Cozy 3-bedroom, 2-bathroom townhouse in the charming neighborhood of Berg am Laim. This inviting property features a sunlit living room, a modern kitchen with stainless steel appliances, and a private patio for outdoor gatherings. The bedrooms offer comfort and privacy, making it an ideal home for families or those seeking a peaceful retreat within the city limits.\n",
      "\n",
      "-----------------------\n",
      "New description: \n",
      "Cozy 3-bedroom, 2-bathroom townhouse in the charming neighborhood of Berg am Laim. This inviting property features a sunlit living room, a modern kitchen with stainless steel appliances, and a private patio for outdoor gatherings. The bedrooms offer comfort and privacy, making it an ideal home for families or those seeking a peaceful retreat within the city limits. Berg am Laim is a rather urban residential enclave with a mix of historic architecture, local bakeries, and green spaces. Residents can enjoy picnics in the nearby Ostpark, visit the local markets and\n",
      "\n",
      "-----------------------\n",
      "Old neighborhood description: \n",
      "Berg am Laim is a residential enclave with a mix of historic architecture, local bakeries, and green spaces. Residents can enjoy picnics in the nearby Ostpark, visit the local markets and\n",
      "\n",
      "-----------------------\n",
      "New neighborhood description: \n",
      "Berg am Laim is a rather urban residential enclave with historical charm, offering easy access to public transport, including the subway. Enjoy the green spaces and local bakeries while being just a short commute away from the bustling city center.\n",
      "\n",
      "\n"
     ]
    }
   ],
   "source": [
    "comparison_full = f\"\"\"-----------------------\n",
    "Conversation history: \n",
    "{history}\n",
    "\n",
    "-----------------------\n",
    "Direct comparison: \n",
    "{comparison1}\n",
    "\n",
    "-----------------------\n",
    "Old description: \n",
    "{recommended_listing.iloc[0]['Description']}\n",
    "\n",
    "-----------------------\n",
    "New description: \n",
    "{df_new.iloc[0]['Description']}\n",
    "\n",
    "-----------------------\n",
    "Old neighborhood description: \n",
    "{recommended_listing.iloc[0]['Neighborhood Description']}\n",
    "\n",
    "-----------------------\n",
    "New neighborhood description: \n",
    "{df_new.iloc[0]['Neighborhood Description']}\n",
    "\n",
    "\"\"\"\n",
    "print(comparison_full)"
   ]
  },
  {
   "cell_type": "code",
   "execution_count": 56,
   "id": "9ea3173c",
   "metadata": {},
   "outputs": [
    {
     "data": {
      "text/html": [
       "<div>\n",
       "<style scoped>\n",
       "    .dataframe tbody tr th:only-of-type {\n",
       "        vertical-align: middle;\n",
       "    }\n",
       "\n",
       "    .dataframe tbody tr th {\n",
       "        vertical-align: top;\n",
       "    }\n",
       "\n",
       "    .dataframe thead th {\n",
       "        text-align: right;\n",
       "    }\n",
       "</style>\n",
       "<table border=\"1\" class=\"dataframe\">\n",
       "  <thead>\n",
       "    <tr style=\"text-align: right;\">\n",
       "      <th></th>\n",
       "      <th></th>\n",
       "      <th></th>\n",
       "      <th></th>\n",
       "      <th>Unique ID</th>\n",
       "      <th>Neighborhood</th>\n",
       "      <th>Price</th>\n",
       "      <th>Bedrooms</th>\n",
       "      <th>Bathrooms</th>\n",
       "      <th>House Size (in sqft)</th>\n",
       "      <th>Description</th>\n",
       "      <th>Neighborhood Description</th>\n",
       "    </tr>\n",
       "  </thead>\n",
       "  <tbody>\n",
       "    <tr>\n",
       "      <th>24</th>\n",
       "      <th>Berg am Laim</th>\n",
       "      <th>620000</th>\n",
       "      <th>3</th>\n",
       "      <td>2</td>\n",
       "      <td>1450</td>\n",
       "      <td>This inviting 3-bedroom, 2-bathroom townhouse ...</td>\n",
       "      <td>\"Berg am Laim is a residential enclave with h...</td>\n",
       "      <td>local bakeries</td>\n",
       "      <td>and green spaces. Picnics in nearby Ostpark</td>\n",
       "      <td>local markets</td>\n",
       "      <td>and cozy cafes cater to your preferences.\"</td>\n",
       "    </tr>\n",
       "  </tbody>\n",
       "</table>\n",
       "</div>"
      ],
      "text/plain": [
       "                          Unique ID  Neighborhood  \\\n",
       "24 Berg am Laim 620000 3          2          1450   \n",
       "\n",
       "                                                                      Price  \\\n",
       "24 Berg am Laim 620000 3  This inviting 3-bedroom, 2-bathroom townhouse ...   \n",
       "\n",
       "                                                                   Bedrooms  \\\n",
       "24 Berg am Laim 620000 3   \"Berg am Laim is a residential enclave with h...   \n",
       "\n",
       "                                Bathrooms  \\\n",
       "24 Berg am Laim 620000 3   local bakeries   \n",
       "\n",
       "                                                  House Size (in sqft)  \\\n",
       "24 Berg am Laim 620000 3   and green spaces. Picnics in nearby Ostpark   \n",
       "\n",
       "                             Description  \\\n",
       "24 Berg am Laim 620000 3   local markets   \n",
       "\n",
       "                                             Neighborhood Description  \n",
       "24 Berg am Laim 620000 3   and cozy cafes cater to your preferences.\"  "
      ]
     },
     "execution_count": 56,
     "metadata": {},
     "output_type": "execute_result"
    }
   ],
   "source": [
    "df_new.head()"
   ]
  },
  {
   "cell_type": "markdown",
   "id": "5710a997",
   "metadata": {},
   "source": [
    "For future reference, we provide the possibility to store and retrieve all generated listings, including the respective conversation history and the comparisons:"
   ]
  },
  {
   "cell_type": "code",
   "execution_count": 46,
   "id": "a06dcf87",
   "metadata": {},
   "outputs": [],
   "source": [
    "try:\n",
    "    with open(COMPARISONS_FILE, 'a', encoding='utf-8') as file:\n",
    "        file.write(f\"-----------------------\\n\")\n",
    "        file.write(f\"{datetime.datetime.now(datetime.timezone.utc).strftime('%Y-%m-%d %H:%M:%S %Z')}\\n\")\n",
    "        file.write(f\"-----------------------\\n\")\n",
    "        file.write(comparison_full)\n",
    "        file.write(f\"-----------------------\\n\")\n",
    "except FileNotFoundError:\n",
    "    print(f\"Error: The file {COMPARISONS_FILE} was not found.\")\n",
    "except Exception as e:\n",
    "    print(f\"An error occurred: {e}\")"
   ]
  },
  {
   "cell_type": "markdown",
   "id": "c52c0ca4",
   "metadata": {},
   "source": [
    "Execute this cell if you just want to retrieve past examples"
   ]
  },
  {
   "cell_type": "code",
   "execution_count": 48,
   "id": "de4dcf3e",
   "metadata": {},
   "outputs": [
    {
     "name": "stdout",
     "output_type": "stream",
     "text": [
      "-----------------------\n",
      "2025-04-23 13:20:23 UTC\n",
      "-----------------------\n",
      "-----------------------\n",
      "Conversation history: \n",
      "AI: How big do you want your house to be?\n",
      "Human: small is enough\n",
      "AI: What are 3 most important things for you in choosing this property?\n",
      "Human: public transport should be reachable by foot, green environment, and the price below 600000\n",
      "AI: Which amenities would you like?\n",
      "Human: a nice kitchen\n",
      "AI: Which transportation options are important to you?\n",
      "Human: Easy access to the subway, and bike-friendly roads\n",
      "AI: How urban do you want your neighborhood to be?\n",
      "Human: rather urban\n",
      "AI: Do you have an upper price target?\n",
      "Human: 600000 dollars\n",
      "\n",
      "\n",
      "-----------------------\n",
      "Direct comparison: \n",
      "Field name               - Old Value       - New value\n",
      "Unique ID                - 24              - 24        \n",
      "Neighborhood             - Berg am Laim    - Berg am Laim\n",
      "Price                    - 620000          - 620000    \n",
      "Bedrooms                 - 3               - 3         \n",
      "Bathrooms                - 2               - 2         \n",
      "House Size (in sqft)     - 1450            - 1450      \n",
      "Description              - Cozy 3-bedroom, 2-bathroom townhouse in the charming neighborhood of Berg am Laim. This inviting property features a sunlit living room, a modern kitchen with stainless steel appliances, and a private patio for outdoor gatherings. The bedrooms offer comfort and privacy, making it an ideal home for families or those seeking a peaceful retreat within the city limits. - Cozy 3-bedroom, 2-bathroom townhouse in the charming neighborhood of Berg am Laim. This inviting property features a sunlit living room, a modern kitchen with stainless steel appliances, and a private patio for outdoor gatherings. The bedrooms offer comfort and privacy, making it an ideal home for families or those seeking a peaceful retreat within the city limits. Berg am Laim is a rather urban residential enclave with a mix of historic architecture, local bakeries, and green spaces. Residents can enjoy picnics in the nearby Ostpark, visit the local markets and\n",
      "Neighborhood Description - Berg am Laim is a residential enclave with a mix of historic architecture, local bakeries, and green spaces. Residents can enjoy picnics in the nearby Ostpark, visit the local markets and - Berg am Laim is a rather urban residential enclave with historical charm, offering easy access to public transport, including the subway. Enjoy the green spaces and local bakeries while being just a short commute away from the bustling city center.\n",
      "\n",
      "\n",
      "-----------------------\n",
      "Old description: \n",
      "Cozy 3-bedroom, 2-bathroom townhouse in the charming neighborhood of Berg am Laim. This inviting property features a sunlit living room, a modern kitchen with stainless steel appliances, and a private patio for outdoor gatherings. The bedrooms offer comfort and privacy, making it an ideal home for families or those seeking a peaceful retreat within the city limits.\n",
      "\n",
      "-----------------------\n",
      "New description: \n",
      "Cozy 3-bedroom, 2-bathroom townhouse in the charming neighborhood of Berg am Laim. This inviting property features a sunlit living room, a modern kitchen with stainless steel appliances, and a private patio for outdoor gatherings. The bedrooms offer comfort and privacy, making it an ideal home for families or those seeking a peaceful retreat within the city limits. Berg am Laim is a rather urban residential enclave with a mix of historic architecture, local bakeries, and green spaces. Residents can enjoy picnics in the nearby Ostpark, visit the local markets and\n",
      "\n",
      "-----------------------\n",
      "Old neighborhood description: \n",
      "Berg am Laim is a residential enclave with a mix of historic architecture, local bakeries, and green spaces. Residents can enjoy picnics in the nearby Ostpark, visit the local markets and\n",
      "\n",
      "-----------------------\n",
      "New neighborhood description: \n",
      "Berg am Laim is a rather urban residential enclave with historical charm, offering easy access to public transport, including the subway. Enjoy the green spaces and local bakeries while being just a short commute away from the bustling city center.\n",
      "\n",
      "-----------------------\n",
      "-----------------------\n",
      "2025-04-23 13:20:28 UTC\n",
      "-----------------------\n",
      "-----------------------\n",
      "Conversation history: \n",
      "AI: How big do you want your house to be?\n",
      "Human: small is enough\n",
      "AI: What are 3 most important things for you in choosing this property?\n",
      "Human: public transport should be reachable by foot, green environment, and the price below 600000\n",
      "AI: Which amenities would you like?\n",
      "Human: a nice kitchen\n",
      "AI: Which transportation options are important to you?\n",
      "Human: Easy access to the subway, and bike-friendly roads\n",
      "AI: How urban do you want your neighborhood to be?\n",
      "Human: rather urban\n",
      "AI: Do you have an upper price target?\n",
      "Human: 600000 dollars\n",
      "\n",
      "\n",
      "-----------------------\n",
      "Direct comparison: \n",
      "Field name               - Old Value       - New value\n",
      "Unique ID                - 24              - 24        \n",
      "Neighborhood             - Berg am Laim    - Berg am Laim\n",
      "Price                    - 620000          - 620000    \n",
      "Bedrooms                 - 3               - 3         \n",
      "Bathrooms                - 2               - 2         \n",
      "House Size (in sqft)     - 1450            - 1450      \n",
      "Description              - Cozy 3-bedroom, 2-bathroom townhouse in the charming neighborhood of Berg am Laim. This inviting property features a sunlit living room, a modern kitchen with stainless steel appliances, and a private patio for outdoor gatherings. The bedrooms offer comfort and privacy, making it an ideal home for families or those seeking a peaceful retreat within the city limits. - Cozy 3-bedroom, 2-bathroom townhouse in the charming neighborhood of Berg am Laim. This inviting property features a sunlit living room, a modern kitchen with stainless steel appliances, and a private patio for outdoor gatherings. The bedrooms offer comfort and privacy, making it an ideal home for families or those seeking a peaceful retreat within the city limits. Berg am Laim is a rather urban residential enclave with a mix of historic architecture, local bakeries, and green spaces. Residents can enjoy picnics in the nearby Ostpark, visit the local markets and\n",
      "Neighborhood Description - Berg am Laim is a residential enclave with a mix of historic architecture, local bakeries, and green spaces. Residents can enjoy picnics in the nearby Ostpark, visit the local markets and - Berg am Laim is a rather urban residential enclave with historical charm, offering easy access to public transport, including the subway. Enjoy the green spaces and local bakeries while being just a short commute away from the bustling city center.\n",
      "\n",
      "\n",
      "-----------------------\n",
      "Old description: \n",
      "Cozy 3-bedroom, 2-bathroom townhouse in the charming neighborhood of Berg am Laim. This inviting property features a sunlit living room, a modern kitchen with stainless steel appliances, and a private patio for outdoor gatherings. The bedrooms offer comfort and privacy, making it an ideal home for families or those seeking a peaceful retreat within the city limits.\n",
      "\n",
      "-----------------------\n",
      "New description: \n",
      "Cozy 3-bedroom, 2-bathroom townhouse in the charming neighborhood of Berg am Laim. This inviting property features a sunlit living room, a modern kitchen with stainless steel appliances, and a private patio for outdoor gatherings. The bedrooms offer comfort and privacy, making it an ideal home for families or those seeking a peaceful retreat within the city limits. Berg am Laim is a rather urban residential enclave with a mix of historic architecture, local bakeries, and green spaces. Residents can enjoy picnics in the nearby Ostpark, visit the local markets and\n",
      "\n",
      "-----------------------\n",
      "Old neighborhood description: \n",
      "Berg am Laim is a residential enclave with a mix of historic architecture, local bakeries, and green spaces. Residents can enjoy picnics in the nearby Ostpark, visit the local markets and\n",
      "\n",
      "-----------------------\n",
      "New neighborhood description: \n",
      "Berg am Laim is a rather urban residential enclave with historical charm, offering easy access to public transport, including the subway. Enjoy the green spaces and local bakeries while being just a short commute away from the bustling city center.\n",
      "\n",
      "-----------------------\n",
      "\n"
     ]
    }
   ],
   "source": [
    "try:\n",
    "    with open(COMPARISONS_FILE, 'r', encoding='utf-8') as file:\n",
    "        content = file.read()\n",
    "        print(content)\n",
    "except FileNotFoundError:\n",
    "    print(f\"Error: The file {COMPARISONS_FILE} was not found.\")\n",
    "except Exception as e:\n",
    "    print(f\"An error occurred: {e}\")"
   ]
  }
 ],
 "metadata": {
  "kernelspec": {
   "display_name": ".venv",
   "language": "python",
   "name": "python3"
  },
  "language_info": {
   "codemirror_mode": {
    "name": "ipython",
    "version": 3
   },
   "file_extension": ".py",
   "mimetype": "text/x-python",
   "name": "python",
   "nbconvert_exporter": "python",
   "pygments_lexer": "ipython3",
   "version": "3.11.9"
  }
 },
 "nbformat": 4,
 "nbformat_minor": 5
}
