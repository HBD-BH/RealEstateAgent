{
 "cells": [
  {
   "cell_type": "markdown",
   "id": "a108af04",
   "metadata": {},
   "source": [
    "# Personalized Real-Estate Agent\n",
    "\n",
    "In this notebook, we will build a personalized real-estate agent. \n"
   ]
  },
  {
   "cell_type": "markdown",
   "id": "59c7b2c5",
   "metadata": {},
   "source": [
    "## Import statements and configuration"
   ]
  },
  {
   "cell_type": "code",
   "execution_count": 1,
   "id": "6554fd4c",
   "metadata": {},
   "outputs": [
    {
     "name": "stdout",
     "output_type": "stream",
     "text": [
      "Using API key from the `.env` file.\n",
      "Using API base URL from the `.env` file. - You're all set.\n"
     ]
    }
   ],
   "source": [
    "import os\n",
    "from dotenv import load_dotenv # To keep private keys private\n",
    "load_dotenv()\n",
    "# To store the generated listings in a csv file\n",
    "import csv\n",
    "import io\n",
    "\n",
    "openai_api_key = os.getenv(\"OPENAI_API_KEY\")\n",
    "openai_api_base = os.getenv(\"OPENAI_API_BASE\")\n",
    "\n",
    "if openai_api_key is not None:\n",
    "    print(f\"Using API key from the `.env` file.\")\n",
    "else:\n",
    "    print(\"OPENAI_API_KEY not found in environment variable. - Please set it up in the `.env` file.\")\n",
    "\n",
    "\n",
    "if openai_api_base is not None:\n",
    "    print(f\"Using API base URL from the `.env` file. - You're all set.\")\n",
    "else:\n",
    "    print(\"OPENAI_API_BASE not found in environment variable. - Please set it up in the `.env` file.\")\n",
    "\n",
    "from openai import OpenAI\n",
    "client = OpenAI(\n",
    "    base_url = openai_api_base,\n",
    "    api_key = openai_api_key\n",
    ")\n",
    "\n",
    "MODEL_NAME = \"gpt-3.5-turbo\"\n",
    "version = \"v1\"      # To make file names etc. unique\n",
    "LISTINGS_FILE = f\"listings_{version}.csv\"\n",
    "\n",
    "# LangChain components we are going to use\n",
    "from langchain.llms import OpenAI\n",
    "from langchain.document_loaders.csv_loader import CSVLoader # To load the CSV file\n",
    "from langchain.vectorstores import Chroma                   # For vector database\n",
    "import tiktoken                                             # For token counting, required by Chroma\n",
    "from langchain.embeddings.openai import OpenAIEmbeddings\n",
    "EMBEDDINGS_MODEL_NAME = \"text-embedding-ada-002\"            # OpenAI's embedding model\n",
    "from langchain.text_splitter import CharacterTextSplitter   # To make embeddings more efficient\n",
    "from langchain.chains import RetrievalQA                    # To perform Retrieval-Augmented Generation (RAG)\n",
    "\n",
    "import pandas as pd\n",
    "import numpy as np\n",
    "\n",
    "COLLECT_USER_PREFERENCES = True        # Set to True to collect user preferences interactively\n"
   ]
  },
  {
   "cell_type": "markdown",
   "id": "f1f103f0",
   "metadata": {},
   "source": [
    "## Generating Real Estate Listings\n",
    "\n",
    "First, we generate some fantasy listings using an LLM. The one example given is: "
   ]
  },
  {
   "cell_type": "code",
   "execution_count": null,
   "id": "53a8aa68",
   "metadata": {},
   "outputs": [
    {
     "name": "stdout",
     "output_type": "stream",
     "text": [
      "\"Seaside Retreat\",1250000,4,3,2800,\"Step into luxury with this stunning 4-bedroom, 3-bathroom home located in the exclusive Seaside Retreat neighborhood. Boasting panoramic ocean views, this spacious residence features high-end finishes, a gourmet kitchen, a private deck perfect for entertaining, and a master suite with a spa-like bathroom. Enjoy coastal living at its finest in this Seaside Retreat gem.\",\"Seaside Retreat offers residents access to private beachfront, upscale dining options, boutique shops, and scenic walking trails along the coastline. Explore the nearby marina for water activities or unwind at the seaside spa. With top-rated schools and a vibrant community atmosphere, Seaside Retreat is the epitome of coastal luxury living.\"\n",
      "\n",
      "\"Oakridge Heights\",650000,3,2,1800,\"Welcome home to this elegant 3-bedroom, 2-bathroom residence in the desirable Oakridge Heights neighborhood. This meticulously maintained property features a gourmet kitchen, a cozy fireplace in the living room, a spacious backyard with a patio, and a luxurious master suite. Perfect for families and entertaining, this home offers comfort and style in a prime location.\",\"Oakridge Heights is known for its family-friendly environment, tree-lined streets, and charming parks. Residents can enjoy local farmers' markets, artisanal bakeries, and trendy cafes within walking distance. With top-rated schools and easy access to hiking trails, Oakridge Heights is the ideal neighborhood for those seeking a balance of nature and convenience.\"\n",
      "\n",
      "\"Riverfront Estates\",1750000,5,4,3500,\"Luxury meets tranquility in this exquisite 5-bedroom, 4-bathroom home located in the prestigious Riverfront Estates. Situated along the scenic riverbank, this residence offers expansive living spaces, a chef's kitchen, a home theater, a wine cellar, and a resort-style backyard with a pool and spa. Enjoy unparalleled river views and sophisticated living in this Riverfront Estates masterpiece.\",\"Riverfront Estates is a secluded enclave known for its privacy, lush landscapes, and exclusive riverfront access. Residents can participate in water sports, fishing, and picnics along the river. The neighborhood also features private tennis courts, a clubhouse, and hiking trails that showcase the beauty of the surrounding nature. Experience luxury living at its finest in Riverfront Estates.\"\n",
      "\n",
      "\"Aspen Grove\",540000,4,2,2200,\"Nestled in the scenic Aspen Grove neighborhood, this charming 4-bedroom, 2-bathroom home offers both comfort and style. Featuring a bright and airy interior with hardwood floors, a modern kitchen, a cozy fireplace, and a beautifully landscaped backyard, this residence is perfect for families or those who love to entertain. Enjoy peaceful living in the heart of Aspen Grove.\",\"Aspen Grove is a nature lover's paradise, with picturesque hiking trails, serene parks, and majestic mountain views. Residents can explore quaint boutiques, art galleries, and farm-to-table restaurants in the nearby town center. With a strong sense of community and a focus on outdoor recreational activities, Aspen Grove provides a serene escape from city life.\"\n",
      "\n",
      "\"Hillside Haven\",950000,3,3,2400,\"Discover modern elegance in this 3-bedroom, 3-bathroom home located in the sought-after Hillside Haven neighborhood. Boasting panoramic city views, this residence features a sleek design, high-end appliances, a spacious deck for al fresco dining, and a luxurious master suite. Ideal for those who appreciate contemporary architecture and luxury amenities, this Hillside Haven home offers sophisticated living at its best.\",\"Hillside Haven is a vibrant community known for its trendy restaurants, art galleries, and cultural events. Residents can enjoy local farmers' markets, boutique shopping, and outdoor yoga classes in the neighborhood. With easy access to public transportation and proximity to downtown, Hillside Haven provides a perfect blend of urban convenience and suburban tranquility.\"\n",
      "\n",
      "\"Meadowbrook Village\",720000,4,3,2000,\"Situated in the family-friendly Meadowbrook Village, this spacious 4-bedroom, 3-bathroom home is perfect for dynamic family living. The property features a gourmet kitchen, a cozy family room with a fireplace, a private backyard with a play area, and a large master suite. Embrace the sense of community and comfort in this Meadowbrook Village residence.\",\"Meadowbrook Village offers residents access to top-rated schools, community events, and family-friendly parks. The neighborhood is known for its tree-lined streets, playgrounds, and sports fields. With friendly neighbors and a strong sense of community, Meadowbrook Village provides a welcoming and safe environment for families to thrive.\"\n",
      "\n",
      "\"Sunset Ridge\",890000,3,2,1900,\"Welcome to this charming 3-bedroom, 2-bathroom home perched in the desirable Sunset Ridge neighborhood. This bright and airy residence features an open floor plan, a renovated kitchen, a spacious backyard with a patio, and a master suite with a walk-in closet. Enjoy stunning sunsets and coastal breezes in this Sunset Ridge gem.\",\"Sunset Ridge offers residents access to scenic hiking trails, local vineyards, and trendy restaurants with outdoor dining options. The neighborhood is known for its friendly atmosphere, community events, and vibrant arts scene. Residents can take advantage of beachside yoga classes, farmer's markets, and surf lessons. Experience coastal living at its finest in Sunset Ridge.\"\n",
      "\n",
      "\"Lakeside Retreat\",1100000,5,4,3200,\"Escape to luxury in this lakeside 5-bedroom, 4-bathroom retreat located in the serene Lakeside Retreat neighborhood. This stunning home offers a gourmet kitchen, a private dock on the lake, a home theater, a wine cellar, and a resort-style backyard with a pool and spa. Embrace waterfront living and sophisticated comfort in this Lakeside Retreat sanctuary.\",\"Lakeside Retreat is a hidden oasis with private lake access, lush greenery, and peaceful walking trails. Residents can enjoy water activities, fishing, and picnics by the lake. The neighborhood features a clubhouse, tennis courts, and community events that foster a strong sense of community. Experience resort-style living in Lakeside Retreat.\"\n",
      "\n",
      "\"Maplewood Hills\",610000,3,2,1700,\"Located in the desirable Maplewood Hills neighborhood, this 3-bedroom, 2-bathroom home exudes charm and character. Featuring hardwood floors, a cozy fireplace in the living room, a renovated kitchen with stainless steel appliances, and a landscaped backyard with a deck, this residence offers comfort and style in a prime location.\",\"Maplewood Hills is a picturesque neighborhood dotted with tree-lined streets, parks, and local cafes. Residents can enjoy weekend farmers' markets, boutique shopping, and community events in the town square. With easy access to hiking trails and top-rated schools, Maplewood Hills provides a peaceful and family-friendly environment.\"\n",
      "\n",
      "\"Harbor View\",1350000,4,3,2600,\"Indulge in waterfront living in this elegant 4-bedroom, 3-bathroom home nestled in the exclusive Harbor View neighborhood. Boasting panoramic ocean views, this residence features high ceilings, a chef's kitchen, a private balcony, and a luxurious master suite. Enjoy coastal breezes and luxurious comfort in this Harbor View sanctuary.\",\"Harbor View offers residents exclusive access to private beachfront, upscale dining options, and boutique shops. The neighborhood is known for its yacht clubs, marinas, and waterfront dining experiences. Residents can enjoy sailing, kayaking, and paddleboarding along the coast. Embrace coastal luxury living in Harbor View.\"\n",
      "\n",
      "\"Mountain Crest\",780000,3,3,2200,\"Escape to the mountains in this stunning 3-bedroom, 3-bathroom retreat located in the secluded Mountain Crest neighborhood. Surrounded by majestic peaks, this home features vaulted ceilings, a gourmet kitchen, a cozy fireplace, a hot tub on the deck, and a spacious master suite. Enjoy nature's beauty and tranquility in this Mountain Crest getaway.\",\"Mountain Crest is a nature lover's paradise, with access to hiking trails, skiing, and outdoor adventures year-round. Residents can explore local art galleries, rustic cafes, and community events that celebrate the mountain lifestyle. The neighborhood provides a peaceful retreat from city life while offering modern amenities and recreational opportunities.\"\n",
      "\n",
      "\"Riverside Oaks\",920000,4,3,2400,\"Discover riverside living in this spacious 4-bedroom, 3-bathroom home located in the charming Riverside Oaks neighborhood. Featuring a gourmet kitchen, a cozy family room with a fireplace, a landscaped backyard with a patio, and a luxurious master suite, this residence offers comfort and style in a tranquil setting.\",\"Riverside Oaks is a serene neighborhood with tree-lined streets, riverside parks, and scenic walking paths. Residents can enjoy kayaking, paddleboarding, and picnics by the river. The neighborhood boasts top-rated schools, local cafes, and farmers' markets that contribute to a strong sense of community. Experience riverside charm in Riverside Oaks.\"\n",
      "\n",
      "\"Golden Hills\",670000,3,2,1800,\"Welcome to this charming 3-bedroom, 2-bathroom home nestled in the desirable Golden Hills neighborhood. This well-maintained residence features a renovated kitchen, hardwood floors, a cozy fireplace in the living room, and a private backyard with a deck. Enjoy the warmth and comfort of this Golden Hills gem.\",\"Golden Hills offers residents access to scenic hiking trails, local vineyards, and trendy restaurants with outdoor dining options. The neighborhood is known for its friendly atmosphere, community events, and vibrant arts scene. Residents can take advantage of yoga classes, farmers' markets, and local boutiques. Experience a sense of community in Golden Hills.\"\n",
      "\n",
      "\"Pinecrest Heights\",990000,4,3,2600,\"Experience contemporary luxury in this 4-bedroom, 3-bathroom home located in the exclusive Pinecrest Heights neighborhood. Boasting modern design and high-end finishes, this residence features a gourmet kitchen, a spacious living area, a landscaped backyard with a fire pit, and a deluxe master suite. Ideal for those who appreciate style and sophistication, this Pinecrest Heights home offers a blend of comfort and elegance.\",\"Pinecrest Heights is an upscale neighborhood with access to exclusive boutiques, gourmet restaurants, and cultural attractions. Residents can enjoy private tennis courts, golf courses, and spa facilities within the neighborhood. With breathtaking views of the city skyline and close proximity to luxury shopping destinations, Pinecrest Heights epitomizes modern living at its finest.\"\n",
      "\n",
      "\"Bayfront Retreat\",1550000,5,4,3400,\"Seize the opportunity to own this spectacular 5-bedroom, 4-bathroom bayfront retreat in the coveted Bayfront Retreat neighborhood. This waterfront home features breathtaking bay views, high ceilings, a chef's kitchen, a private dock, and a resort-style backyard with a pool and spa. Indulge in luxurious coastal living and scenic beauty in this Bayfront Retreat oasis.\",\"Bayfront Retreat offers residents exclusive access to private beachfront, upscale dining options, and boutique shops along the bayfront. The neighborhood is known for its vibrant maritime culture, yacht clubs, and sailing regattas. Residents can enjoy waterside dining, sunset cruises, and aquatic sports activities. Experience waterfront luxury living in Bayfront Retreat.\"\n",
      "\n",
      "\"Sunrise Pointe\",710000,4,3,1900,\"Perched in the serene Sunrise Pointe neighborhood, this 4-bedroom, 3-bathroom home offers a tranquil retreat for those seeking peace and comfort. Featuring an open floor plan, a modern kitchen, a cozy fireplace, and a landscaped backyard with a patio, this residence is perfect for families or those looking to relax in a serene environment.\",\"Sunrise Pointe is a peaceful enclave with sweeping views of the sunrise, lush greenery, and walking trails. Residents can enjoy morning walks along the shoreline, community yoga classes, and picnics in the neighborhood park. The area also features top-rated schools, local cafes, and boutique shops that contribute to a close-knit community feel. Experience the tranquility of Sunrise Pointe.\"\n",
      "\n",
      "\"Whispering Pines\",850000,3,2,2200,\"Discover the beauty of nature in this 3-bedroom, 2-bathroom home located in the enchanting Whispering Pines neighborhood. Surrounded by tall trees and serene landscapes, this residence features vaulted ceilings, a modern kitchen, a deck overlooking the woods, and a cozy fireplace. Embrace the tranquility and charm of Whispering Pines in this cozy retreat.\",\"Whispering Pines is a nature lover's paradise, with access to hiking trails, bird-watching opportunities, and wildlife sightings. Residents can explore the nearby nature reserve, participate in community gardening projects, and enjoy stargazing nights. The neighborhood fosters a sense of peace and connection to the natural world, making it a perfect escape from the hustle and bustle of city life.\"\n",
      "\n",
      "\"Tranquil Oaks\",780000,4,3,2300,\"Escape to tranquility in this spacious 4-bedroom, 3-bathroom home nestled in the serene Tranquil Oaks neighborhood. Featuring a modern design, a gourmet kitchen, a spacious living area, a private backyard with a deck, and a luxurious master suite, this residence offers comfort and style in a peaceful setting.\",\"Tranquil Oaks is a quiet neighborhood with winding streets, lush greenery, and community parks. Residents can enjoy afternoon walks along the oak tree-lined paths, outdoor yoga classes, and neighborhood potluck events. The area also boasts top-rated schools, local cafes, and boutique shops that cater to residents' needs. Experience peace and serenity in Tranquil Oaks.\"\n",
      "\n",
      "\"Orchard Grove\",630000,3,2,1800,\"Welcome to this charming 3-bedroom, 2-bathroom home nestled in the Orchard Grove neighborhood. This classic residence features hardwood floors, a renovated kitchen, a cozy fireplace in the living room, and a landscaped backyard with fruit trees. Enjoy the beauty and charm of this Orchard Grove gem.\",\"Orchard Grove offers residents access to local farmers' markets, apple orchards, and artisanal bakeries. The neighborhood is known for its friendly atmosphere, community events, and scenic beauty. Residents can explore nearby hiking trails, pick fresh produce at orchards, and enjoy outdoor concerts in the orchard park. Experience a sense of community in Orchard Grove.\"\n",
      "\n",
      "\"Crystal Lake Estates\",1150000,5,4,3300,\"Embrace luxury living in this exquisite 5-bedroom, 4-bathroom estate located in the prestigious Crystal Lake Estates. Boasting luxury finishes, high ceilings, a chef's kitchen, a home theater, a wine cellar, and a resort-style backyard with a pool and spa, this residence offers unparalleled sophistication and comfort. Experience resort-style living at its finest in Crystal Lake Estates.\",\"Crystal Lake Estates is a gated community known for its private lakefront access, lush landscapes, and upscale amenities. Residents can enjoy fishing, boating, and lakeside picnics all within the neighborhood. The community features a clubhouse, tennis courts, and hiking trails that promote an active lifestyle and a strong sense of community. Indulge in luxury living in Crystal Lake Estates.\"\n",
      "\n",
      "\"Valley Vista\",690000,4,3,2000,\"Situated in the picturesque Valley Vista neighborhood, this 4-bedroom, 3-bathroom home offers stunning views and modern amenities. The property features a gourmet kitchen, a bright and airy living room, a landscaped backyard with a patio, and a master suite with a spa-like bathroom. Enjoy the beauty and tranquility of Valley Vista in this charming residence.\",\"Valley Vista is known for its panoramic views, lush greenery, and access to hiking trails. Residents can explore local art galleries, outdoor markets, and farm-to-table restaurants in the nearby town center. With a strong sense of community and a focus on outdoor recreational activities, Valley Vista provides a serene escape from city life while offering modern conveniences.\"\n",
      "\n",
      "\"Ocean Breeze\",1400000,4,3,2900,\"Experience coastal luxury in this 4-bedroom, 3-bathroom home located in the exclusive Ocean Breeze neighborhood. Boasting panoramic ocean views, this residence features high ceilings, a chef's kitchen, a private balcony, and a luxurious master suite. Indulge in breathtaking sunsets and coastal living in this Ocean Breeze sanctuary.\",\"Ocean Breeze offers residents access to private beachfront, gourmet dining options, and boutique shops along the coast. The neighborhood is known for its beach club, surfing competitions, and waterfront promenades. Residents can enjoy water sports, beachside yoga classes, and fine dining experiences by the ocean. Embrace the epitome of coastal luxury living in Ocean Breeze.\"\n",
      "\n",
      "\"Whitewater Bay\",1200000,5,4,3200,\"Discover waterfront living in this spectacular 5-bedroom, 4-bathroom home nestled in the exclusive Whitewater Bay neighborhood. Featuring breathtaking bay views, a gourmet kitchen, a private dock, a home theater, and a resort-style backyard with a pool and spa, this residence offers luxury amenities and serene coastal living. Embrace waterfront elegance in this Whitewater Bay retreat.\",\"Whitewater Bay is a prestigious enclave known for its private beach access, upscale dining options, and luxury yacht clubs. The neighborhood offers water activities, sailing regattas, and coastal events that cater to a sophisticated maritime lifestyle. Residents can enjoy beachfront dining, sunset cruises, and private beach cabanas. Experience waterfront opulence in Whitewater Bay.\"\n",
      "\n",
      "\"Silver Creek Estates\",680000,3,2,2100,\"Welcome to this modern 3-bedroom, 2-bathroom home located in the desirable Silver Creek Estates neighborhood. This contemporary residence features an open floor plan, a gourmet kitchen, a sleek design, and a landscaped backyard with a patio. Enjoy the convenience and style of this Silver Creek Estates gem.\",\"Silver Creek Estates offers residents access to community parks, local cafes, and boutique shops. The neighborhood is known for its scenic walking trails, outdoor markets, and family-friendly events. Residents can take advantage of nearby golf courses, wellness centers, and recreational facilities. Experience modern living in Silver Creek Estates.\"\n",
      "\n",
      "\"Summit Ridge\",920000,4,3,2400,\"Indulge in luxury living in this 4-bedroom, 3-bathroom home perched atop Summit Ridge. Boasting panoramic city views, this residence features high-end finishes, a gourmet kitchen, a private deck, and a deluxe master suite. Ideal for those who appreciate contemporary design and sophistication, this Summit Ridge home offers comfort and style with a touch of elegance.\",\"Summit Ridge is an upscale neighborhood with exclusive boutiques, gourmet restaurants, and cultural attractions. Residents can enjoy private golf courses, country clubs, and spa facilities within the neighborhood. With sweeping views of the city skyline and close proximity to luxury shopping destinations, Summit Ridge epitomizes modern living at its finest.\"\n",
      "\n",
      "\"Forest Glen\",800000,3,2,2000,\"Discover serenity in this 3-bedroom, 2-bathroom home nestled in the tranquil Forest Glen neighborhood. Surrounded by lush greenery, this residence features vaulted ceilings, a modern kitchen, a deck for outdoor dining, and a cozy fireplace in the living room. Embrace the peaceful surroundings of Forest Glen in this charming retreat.\",\"Forest Glen is a nature lover's paradise, with access to hiking trails, bird-watching spots, and wildlife preserves. Residents can explore tranquil parks, participate in conservation efforts, and enjoy outdoor picnics in the wooded area. The neighborhood fosters a sense of peace and connection to nature, making it an ideal retreat from city life.\"\n",
      "\n",
      "\"Willow Creek\",740000,4,3,2100,\"Welcome to this inviting 4-bedroom, 3-bathroom home located in the friendly Willow Creek neighborhood. This well-maintained residence features hardwood floors, a renovated kitchen, a cozy fireplace, and a landscaped backyard with a deck. Enjoy the warmth and comfort of this Willow Creek gem.\",\"Willow Creek offers residents access to scenic nature trails, community parks, and local cafes. The neighborhood is known for its tree-lined streets, family-friendly\n"
     ]
    }
   ],
   "source": [
    "listing_elements = [\"Neighborhood\", \"Price\", \"Bedrooms\", \"Bathrooms\", \"House Size (in sqft)\", \"Description\", \"Neighborhood Description\"]\n",
    "\n",
    "listing_elements_text = \", \".join(listing_elements)\n",
    "\n",
    "example_listing = \"\"\"\n",
    "\"Green Oaks\",800000,3,2,2000,\"Welcome to this eco-friendly oasis nestled in the heart of Green Oaks. This charming 3-bedroom, 2-bathroom home boasts energy-efficient features such as solar panels and a well-insulated structure. Natural light floods the living spaces, highlighting the beautiful hardwood floors and eco-conscious finishes. The open-concept kitchen and dining area lead to a spacious backyard with a vegetable garden, perfect for the eco-conscious family. Embrace sustainable living without compromising on style in this Green Oaks gem.\",\"Green Oaks is a close-knit, environmentally-conscious community with access to organic grocery stores, community gardens, and bike paths. Take a stroll through the nearby Green Oaks Park or grab a cup of coffee at the cozy Green Bean Cafe. With easy access to public transportation and bike lanes, commuting is a breeze.\"\n",
    "\"\"\"\n",
    "\n",
    "num_listings = 30\n",
    "system_prompt = f\"\"\"\n",
    "You are a real-estate listing generator. Your task is to create realistic and diverse real estate listings based on the provided example. Each listing should include the following fields: Neighborhood, Price, Bedrooms, Bathrooms, House Size (in sqft), Description, and Neighborhood Description. The listings should be varied in terms of price, size, and neighborhood features.\n",
    "\"\"\"\n",
    "\n",
    "user_prompt = f\"\"\"\n",
    "Please generate {num_listings} real estate listings in the same format as the example below. The listings should be diverse and include various neighborhoods, prices, and features. Each listing should have a unique neighborhood description that highlights local amenities and attractions. The format should be csv-compatible, i.e., numbers should not contain commas, and text should be enclosed in double quotes if it contains commas. The listings should be realistic and reflect current market trends. Dollar values should not contain the $ sign. The listings should be in the following format: {listing_elements_text}\n",
    "Example Listing:\n",
    "{example_listing}\n",
    "\"\"\"\n",
    "\n",
    "messages = [\n",
    "    {\"role\": \"system\", \"content\": system_prompt},\n",
    "    {\"role\": \"user\", \"content\": user_prompt}\n",
    "]\n",
    "\n",
    "try:\n",
    "    response = client.chat.completions.create(\n",
    "        model=MODEL_NAME,\n",
    "        messages=messages\n",
    "    )\n",
    "\n",
    "    # To access the actual response text:\n",
    "    raw_listings = response.choices[0].message.content\n",
    "    print(raw_listings)\n",
    "except Exception as e:\n",
    "    print(f\"An error occurred: {e}\")\n",
    "\n",
    "\n",
    "\n"
   ]
  },
  {
   "cell_type": "code",
   "execution_count": null,
   "id": "5ba62ec3",
   "metadata": {},
   "outputs": [],
   "source": []
  },
  {
   "cell_type": "markdown",
   "id": "93e31bb4",
   "metadata": {},
   "source": [
    "Next, we store the listings as a `.csv` file in order to retrieve them later."
   ]
  },
  {
   "cell_type": "code",
   "execution_count": 41,
   "id": "2b7c0454",
   "metadata": {},
   "outputs": [],
   "source": [
    "# Use io.StringIO to treat the string like a file\n",
    "\n",
    "string_io = io.StringIO(listing_elements_text + \"\\n\" + response.choices[0].message.content)\n",
    "\n",
    "# Open the output file for writing\n",
    "with open(LISTINGS_FILE, 'w', newline='', encoding='utf-8') as outfile:\n",
    "    # Create a CSV reader to read the string data\n",
    "    reader = csv.reader(string_io)\n",
    "\n",
    "    # Create a CSV writer to write to the file\n",
    "    writer = csv.writer(outfile)\n",
    "\n",
    "    # Read each row from the string data and write it to the file\n",
    "    for row in reader:\n",
    "        writer.writerow(row)"
   ]
  },
  {
   "cell_type": "markdown",
   "id": "b758ec78",
   "metadata": {},
   "source": [
    "If the listings are already generated, we can just read them from the csv file (code adapted from the course exercises on LangChain)"
   ]
  },
  {
   "cell_type": "code",
   "execution_count": 2,
   "id": "c9e913bb",
   "metadata": {},
   "outputs": [
    {
     "name": "stdout",
     "output_type": "stream",
     "text": [
      "[Document(metadata={'source': 'listings_v1.csv', 'row': 0}, page_content='Neighborhood: Seaside Retreat\\nPrice: 1250000\\nBedrooms: 4\\nBathrooms: 3\\nHouse Size (in sqft): 2800\\nDescription: Step into luxury with this stunning 4-bedroom, 3-bathroom home located in the exclusive Seaside Retreat neighborhood. Boasting panoramic ocean views, this spacious residence features high-end finishes, a gourmet kitchen, a private deck perfect for entertaining, and a master suite with a spa-like bathroom. Enjoy coastal living at its finest in this Seaside Retreat gem.\\nNeighborhood Description: Seaside Retreat offers residents access to private beachfront, upscale dining options, boutique shops, and scenic walking trails along the coastline. Explore the nearby marina for water activities or unwind at the seaside spa. With top-rated schools and a vibrant community atmosphere, Seaside Retreat is the epitome of coastal luxury living.'), Document(metadata={'source': 'listings_v1.csv', 'row': 1}, page_content=\"Neighborhood: Oakridge Heights\\nPrice: 650000\\nBedrooms: 3\\nBathrooms: 2\\nHouse Size (in sqft): 1800\\nDescription: Welcome home to this elegant 3-bedroom, 2-bathroom residence in the desirable Oakridge Heights neighborhood. This meticulously maintained property features a gourmet kitchen, a cozy fireplace in the living room, a spacious backyard with a patio, and a luxurious master suite. Perfect for families and entertaining, this home offers comfort and style in a prime location.\\nNeighborhood Description: Oakridge Heights is known for its family-friendly environment, tree-lined streets, and charming parks. Residents can enjoy local farmers' markets, artisanal bakeries, and trendy cafes within walking distance. With top-rated schools and easy access to hiking trails, Oakridge Heights is the ideal neighborhood for those seeking a balance of nature and convenience.\"), Document(metadata={'source': 'listings_v1.csv', 'row': 2}, page_content=\"Neighborhood: Riverfront Estates\\nPrice: 1750000\\nBedrooms: 5\\nBathrooms: 4\\nHouse Size (in sqft): 3500\\nDescription: Luxury meets tranquility in this exquisite 5-bedroom, 4-bathroom home located in the prestigious Riverfront Estates. Situated along the scenic riverbank, this residence offers expansive living spaces, a chef's kitchen, a home theater, a wine cellar, and a resort-style backyard with a pool and spa. Enjoy unparalleled river views and sophisticated living in this Riverfront Estates masterpiece.\\nNeighborhood Description: Riverfront Estates is a secluded enclave known for its privacy, lush landscapes, and exclusive riverfront access. Residents can participate in water sports, fishing, and picnics along the river. The neighborhood also features private tennis courts, a clubhouse, and hiking trails that showcase the beauty of the surrounding nature. Experience luxury living at its finest in Riverfront Estates.\"), Document(metadata={'source': 'listings_v1.csv', 'row': 3}, page_content=\"Neighborhood: Aspen Grove\\nPrice: 540000\\nBedrooms: 4\\nBathrooms: 2\\nHouse Size (in sqft): 2200\\nDescription: Nestled in the scenic Aspen Grove neighborhood, this charming 4-bedroom, 2-bathroom home offers both comfort and style. Featuring a bright and airy interior with hardwood floors, a modern kitchen, a cozy fireplace, and a beautifully landscaped backyard, this residence is perfect for families or those who love to entertain. Enjoy peaceful living in the heart of Aspen Grove.\\nNeighborhood Description: Aspen Grove is a nature lover's paradise, with picturesque hiking trails, serene parks, and majestic mountain views. Residents can explore quaint boutiques, art galleries, and farm-to-table restaurants in the nearby town center. With a strong sense of community and a focus on outdoor recreational activities, Aspen Grove provides a serene escape from city life.\"), Document(metadata={'source': 'listings_v1.csv', 'row': 4}, page_content=\"Neighborhood: Hillside Haven\\nPrice: 950000\\nBedrooms: 3\\nBathrooms: 3\\nHouse Size (in sqft): 2400\\nDescription: Discover modern elegance in this 3-bedroom, 3-bathroom home located in the sought-after Hillside Haven neighborhood. Boasting panoramic city views, this residence features a sleek design, high-end appliances, a spacious deck for al fresco dining, and a luxurious master suite. Ideal for those who appreciate contemporary architecture and luxury amenities, this Hillside Haven home offers sophisticated living at its best.\\nNeighborhood Description: Hillside Haven is a vibrant community known for its trendy restaurants, art galleries, and cultural events. Residents can enjoy local farmers' markets, boutique shopping, and outdoor yoga classes in the neighborhood. With easy access to public transportation and proximity to downtown, Hillside Haven provides a perfect blend of urban convenience and suburban tranquility.\"), Document(metadata={'source': 'listings_v1.csv', 'row': 5}, page_content='Neighborhood: Meadowbrook Village\\nPrice: 720000\\nBedrooms: 4\\nBathrooms: 3\\nHouse Size (in sqft): 2000\\nDescription: Situated in the family-friendly Meadowbrook Village, this spacious 4-bedroom, 3-bathroom home is perfect for dynamic family living. The property features a gourmet kitchen, a cozy family room with a fireplace, a private backyard with a play area, and a large master suite. Embrace the sense of community and comfort in this Meadowbrook Village residence.\\nNeighborhood Description: Meadowbrook Village offers residents access to top-rated schools, community events, and family-friendly parks. The neighborhood is known for its tree-lined streets, playgrounds, and sports fields. With friendly neighbors and a strong sense of community, Meadowbrook Village provides a welcoming and safe environment for families to thrive.'), Document(metadata={'source': 'listings_v1.csv', 'row': 6}, page_content=\"Neighborhood: Sunset Ridge\\nPrice: 890000\\nBedrooms: 3\\nBathrooms: 2\\nHouse Size (in sqft): 1900\\nDescription: Welcome to this charming 3-bedroom, 2-bathroom home perched in the desirable Sunset Ridge neighborhood. This bright and airy residence features an open floor plan, a renovated kitchen, a spacious backyard with a patio, and a master suite with a walk-in closet. Enjoy stunning sunsets and coastal breezes in this Sunset Ridge gem.\\nNeighborhood Description: Sunset Ridge offers residents access to scenic hiking trails, local vineyards, and trendy restaurants with outdoor dining options. The neighborhood is known for its friendly atmosphere, community events, and vibrant arts scene. Residents can take advantage of beachside yoga classes, farmer's markets, and surf lessons. Experience coastal living at its finest in Sunset Ridge.\"), Document(metadata={'source': 'listings_v1.csv', 'row': 7}, page_content='Neighborhood: Lakeside Retreat\\nPrice: 1100000\\nBedrooms: 5\\nBathrooms: 4\\nHouse Size (in sqft): 3200\\nDescription: Escape to luxury in this lakeside 5-bedroom, 4-bathroom retreat located in the serene Lakeside Retreat neighborhood. This stunning home offers a gourmet kitchen, a private dock on the lake, a home theater, a wine cellar, and a resort-style backyard with a pool and spa. Embrace waterfront living and sophisticated comfort in this Lakeside Retreat sanctuary.\\nNeighborhood Description: Lakeside Retreat is a hidden oasis with private lake access, lush greenery, and peaceful walking trails. Residents can enjoy water activities, fishing, and picnics by the lake. The neighborhood features a clubhouse, tennis courts, and community events that foster a strong sense of community. Experience resort-style living in Lakeside Retreat.'), Document(metadata={'source': 'listings_v1.csv', 'row': 8}, page_content=\"Neighborhood: Maplewood Hills\\nPrice: 610000\\nBedrooms: 3\\nBathrooms: 2\\nHouse Size (in sqft): 1700\\nDescription: Located in the desirable Maplewood Hills neighborhood, this 3-bedroom, 2-bathroom home exudes charm and character. Featuring hardwood floors, a cozy fireplace in the living room, a renovated kitchen with stainless steel appliances, and a landscaped backyard with a deck, this residence offers comfort and style in a prime location.\\nNeighborhood Description: Maplewood Hills is a picturesque neighborhood dotted with tree-lined streets, parks, and local cafes. Residents can enjoy weekend farmers' markets, boutique shopping, and community events in the town square. With easy access to hiking trails and top-rated schools, Maplewood Hills provides a peaceful and family-friendly environment.\"), Document(metadata={'source': 'listings_v1.csv', 'row': 9}, page_content=\"Neighborhood: Harbor View\\nPrice: 1350000\\nBedrooms: 4\\nBathrooms: 3\\nHouse Size (in sqft): 2600\\nDescription: Indulge in waterfront living in this elegant 4-bedroom, 3-bathroom home nestled in the exclusive Harbor View neighborhood. Boasting panoramic ocean views, this residence features high ceilings, a chef's kitchen, a private balcony, and a luxurious master suite. Enjoy coastal breezes and luxurious comfort in this Harbor View sanctuary.\\nNeighborhood Description: Harbor View offers residents exclusive access to private beachfront, upscale dining options, and boutique shops. The neighborhood is known for its yacht clubs, marinas, and waterfront dining experiences. Residents can enjoy sailing, kayaking, and paddleboarding along the coast. Embrace coastal luxury living in Harbor View.\"), Document(metadata={'source': 'listings_v1.csv', 'row': 10}, page_content=\"Neighborhood: Mountain Crest\\nPrice: 780000\\nBedrooms: 3\\nBathrooms: 3\\nHouse Size (in sqft): 2200\\nDescription: Escape to the mountains in this stunning 3-bedroom, 3-bathroom retreat located in the secluded Mountain Crest neighborhood. Surrounded by majestic peaks, this home features vaulted ceilings, a gourmet kitchen, a cozy fireplace, a hot tub on the deck, and a spacious master suite. Enjoy nature's beauty and tranquility in this Mountain Crest getaway.\\nNeighborhood Description: Mountain Crest is a nature lover's paradise, with access to hiking trails, skiing, and outdoor adventures year-round. Residents can explore local art galleries, rustic cafes, and community events that celebrate the mountain lifestyle. The neighborhood provides a peaceful retreat from city life while offering modern amenities and recreational opportunities.\"), Document(metadata={'source': 'listings_v1.csv', 'row': 11}, page_content=\"Neighborhood: Riverside Oaks\\nPrice: 920000\\nBedrooms: 4\\nBathrooms: 3\\nHouse Size (in sqft): 2400\\nDescription: Discover riverside living in this spacious 4-bedroom, 3-bathroom home located in the charming Riverside Oaks neighborhood. Featuring a gourmet kitchen, a cozy family room with a fireplace, a landscaped backyard with a patio, and a luxurious master suite, this residence offers comfort and style in a tranquil setting.\\nNeighborhood Description: Riverside Oaks is a serene neighborhood with tree-lined streets, riverside parks, and scenic walking paths. Residents can enjoy kayaking, paddleboarding, and picnics by the river. The neighborhood boasts top-rated schools, local cafes, and farmers' markets that contribute to a strong sense of community. Experience riverside charm in Riverside Oaks.\"), Document(metadata={'source': 'listings_v1.csv', 'row': 12}, page_content=\"Neighborhood: Golden Hills\\nPrice: 670000\\nBedrooms: 3\\nBathrooms: 2\\nHouse Size (in sqft): 1800\\nDescription: Welcome to this charming 3-bedroom, 2-bathroom home nestled in the desirable Golden Hills neighborhood. This well-maintained residence features a renovated kitchen, hardwood floors, a cozy fireplace in the living room, and a private backyard with a deck. Enjoy the warmth and comfort of this Golden Hills gem.\\nNeighborhood Description: Golden Hills offers residents access to scenic hiking trails, local vineyards, and trendy restaurants with outdoor dining options. The neighborhood is known for its friendly atmosphere, community events, and vibrant arts scene. Residents can take advantage of yoga classes, farmers' markets, and local boutiques. Experience a sense of community in Golden Hills.\"), Document(metadata={'source': 'listings_v1.csv', 'row': 13}, page_content='Neighborhood: Pinecrest Heights\\nPrice: 990000\\nBedrooms: 4\\nBathrooms: 3\\nHouse Size (in sqft): 2600\\nDescription: Experience contemporary luxury in this 4-bedroom, 3-bathroom home located in the exclusive Pinecrest Heights neighborhood. Boasting modern design and high-end finishes, this residence features a gourmet kitchen, a spacious living area, a landscaped backyard with a fire pit, and a deluxe master suite. Ideal for those who appreciate style and sophistication, this Pinecrest Heights home offers a blend of comfort and elegance.\\nNeighborhood Description: Pinecrest Heights is an upscale neighborhood with access to exclusive boutiques, gourmet restaurants, and cultural attractions. Residents can enjoy private tennis courts, golf courses, and spa facilities within the neighborhood. With breathtaking views of the city skyline and close proximity to luxury shopping destinations, Pinecrest Heights epitomizes modern living at its finest.'), Document(metadata={'source': 'listings_v1.csv', 'row': 14}, page_content=\"Neighborhood: Bayfront Retreat\\nPrice: 1550000\\nBedrooms: 5\\nBathrooms: 4\\nHouse Size (in sqft): 3400\\nDescription: Seize the opportunity to own this spectacular 5-bedroom, 4-bathroom bayfront retreat in the coveted Bayfront Retreat neighborhood. This waterfront home features breathtaking bay views, high ceilings, a chef's kitchen, a private dock, and a resort-style backyard with a pool and spa. Indulge in luxurious coastal living and scenic beauty in this Bayfront Retreat oasis.\\nNeighborhood Description: Bayfront Retreat offers residents exclusive access to private beachfront, upscale dining options, and boutique shops along the bayfront. The neighborhood is known for its vibrant maritime culture, yacht clubs, and sailing regattas. Residents can enjoy waterside dining, sunset cruises, and aquatic sports activities. Experience waterfront luxury living in Bayfront Retreat.\"), Document(metadata={'source': 'listings_v1.csv', 'row': 15}, page_content='Neighborhood: Sunrise Pointe\\nPrice: 710000\\nBedrooms: 4\\nBathrooms: 3\\nHouse Size (in sqft): 1900\\nDescription: Perched in the serene Sunrise Pointe neighborhood, this 4-bedroom, 3-bathroom home offers a tranquil retreat for those seeking peace and comfort. Featuring an open floor plan, a modern kitchen, a cozy fireplace, and a landscaped backyard with a patio, this residence is perfect for families or those looking to relax in a serene environment.\\nNeighborhood Description: Sunrise Pointe is a peaceful enclave with sweeping views of the sunrise, lush greenery, and walking trails. Residents can enjoy morning walks along the shoreline, community yoga classes, and picnics in the neighborhood park. The area also features top-rated schools, local cafes, and boutique shops that contribute to a close-knit community feel. Experience the tranquility of Sunrise Pointe.'), Document(metadata={'source': 'listings_v1.csv', 'row': 16}, page_content=\"Neighborhood: Whispering Pines\\nPrice: 850000\\nBedrooms: 3\\nBathrooms: 2\\nHouse Size (in sqft): 2200\\nDescription: Discover the beauty of nature in this 3-bedroom, 2-bathroom home located in the enchanting Whispering Pines neighborhood. Surrounded by tall trees and serene landscapes, this residence features vaulted ceilings, a modern kitchen, a deck overlooking the woods, and a cozy fireplace. Embrace the tranquility and charm of Whispering Pines in this cozy retreat.\\nNeighborhood Description: Whispering Pines is a nature lover's paradise, with access to hiking trails, bird-watching opportunities, and wildlife sightings. Residents can explore the nearby nature reserve, participate in community gardening projects, and enjoy stargazing nights. The neighborhood fosters a sense of peace and connection to the natural world, making it a perfect escape from the hustle and bustle of city life.\"), Document(metadata={'source': 'listings_v1.csv', 'row': 17}, page_content=\"Neighborhood: Tranquil Oaks\\nPrice: 780000\\nBedrooms: 4\\nBathrooms: 3\\nHouse Size (in sqft): 2300\\nDescription: Escape to tranquility in this spacious 4-bedroom, 3-bathroom home nestled in the serene Tranquil Oaks neighborhood. Featuring a modern design, a gourmet kitchen, a spacious living area, a private backyard with a deck, and a luxurious master suite, this residence offers comfort and style in a peaceful setting.\\nNeighborhood Description: Tranquil Oaks is a quiet neighborhood with winding streets, lush greenery, and community parks. Residents can enjoy afternoon walks along the oak tree-lined paths, outdoor yoga classes, and neighborhood potluck events. The area also boasts top-rated schools, local cafes, and boutique shops that cater to residents' needs. Experience peace and serenity in Tranquil Oaks.\"), Document(metadata={'source': 'listings_v1.csv', 'row': 18}, page_content=\"Neighborhood: Orchard Grove\\nPrice: 630000\\nBedrooms: 3\\nBathrooms: 2\\nHouse Size (in sqft): 1800\\nDescription: Welcome to this charming 3-bedroom, 2-bathroom home nestled in the Orchard Grove neighborhood. This classic residence features hardwood floors, a renovated kitchen, a cozy fireplace in the living room, and a landscaped backyard with fruit trees. Enjoy the beauty and charm of this Orchard Grove gem.\\nNeighborhood Description: Orchard Grove offers residents access to local farmers' markets, apple orchards, and artisanal bakeries. The neighborhood is known for its friendly atmosphere, community events, and scenic beauty. Residents can explore nearby hiking trails, pick fresh produce at orchards, and enjoy outdoor concerts in the orchard park. Experience a sense of community in Orchard Grove.\"), Document(metadata={'source': 'listings_v1.csv', 'row': 19}, page_content=\"Neighborhood: Crystal Lake Estates\\nPrice: 1150000\\nBedrooms: 5\\nBathrooms: 4\\nHouse Size (in sqft): 3300\\nDescription: Embrace luxury living in this exquisite 5-bedroom, 4-bathroom estate located in the prestigious Crystal Lake Estates. Boasting luxury finishes, high ceilings, a chef's kitchen, a home theater, a wine cellar, and a resort-style backyard with a pool and spa, this residence offers unparalleled sophistication and comfort. Experience resort-style living at its finest in Crystal Lake Estates.\\nNeighborhood Description: Crystal Lake Estates is a gated community known for its private lakefront access, lush landscapes, and upscale amenities. Residents can enjoy fishing, boating, and lakeside picnics all within the neighborhood. The community features a clubhouse, tennis courts, and hiking trails that promote an active lifestyle and a strong sense of community. Indulge in luxury living in Crystal Lake Estates.\"), Document(metadata={'source': 'listings_v1.csv', 'row': 20}, page_content='Neighborhood: Valley Vista\\nPrice: 690000\\nBedrooms: 4\\nBathrooms: 3\\nHouse Size (in sqft): 2000\\nDescription: Situated in the picturesque Valley Vista neighborhood, this 4-bedroom, 3-bathroom home offers stunning views and modern amenities. The property features a gourmet kitchen, a bright and airy living room, a landscaped backyard with a patio, and a master suite with a spa-like bathroom. Enjoy the beauty and tranquility of Valley Vista in this charming residence.\\nNeighborhood Description: Valley Vista is known for its panoramic views, lush greenery, and access to hiking trails. Residents can explore local art galleries, outdoor markets, and farm-to-table restaurants in the nearby town center. With a strong sense of community and a focus on outdoor recreational activities, Valley Vista provides a serene escape from city life while offering modern conveniences.'), Document(metadata={'source': 'listings_v1.csv', 'row': 21}, page_content=\"Neighborhood: Ocean Breeze\\nPrice: 1400000\\nBedrooms: 4\\nBathrooms: 3\\nHouse Size (in sqft): 2900\\nDescription: Experience coastal luxury in this 4-bedroom, 3-bathroom home located in the exclusive Ocean Breeze neighborhood. Boasting panoramic ocean views, this residence features high ceilings, a chef's kitchen, a private balcony, and a luxurious master suite. Indulge in breathtaking sunsets and coastal living in this Ocean Breeze sanctuary.\\nNeighborhood Description: Ocean Breeze offers residents access to private beachfront, gourmet dining options, and boutique shops along the coast. The neighborhood is known for its beach club, surfing competitions, and waterfront promenades. Residents can enjoy water sports, beachside yoga classes, and fine dining experiences by the ocean. Embrace the epitome of coastal luxury living in Ocean Breeze.\"), Document(metadata={'source': 'listings_v1.csv', 'row': 22}, page_content='Neighborhood: Whitewater Bay\\nPrice: 1200000\\nBedrooms: 5\\nBathrooms: 4\\nHouse Size (in sqft): 3200\\nDescription: Discover waterfront living in this spectacular 5-bedroom, 4-bathroom home nestled in the exclusive Whitewater Bay neighborhood. Featuring breathtaking bay views, a gourmet kitchen, a private dock, a home theater, and a resort-style backyard with a pool and spa, this residence offers luxury amenities and serene coastal living. Embrace waterfront elegance in this Whitewater Bay retreat.\\nNeighborhood Description: Whitewater Bay is a prestigious enclave known for its private beach access, upscale dining options, and luxury yacht clubs. The neighborhood offers water activities, sailing regattas, and coastal events that cater to a sophisticated maritime lifestyle. Residents can enjoy beachfront dining, sunset cruises, and private beach cabanas. Experience waterfront opulence in Whitewater Bay.'), Document(metadata={'source': 'listings_v1.csv', 'row': 23}, page_content='Neighborhood: Silver Creek Estates\\nPrice: 680000\\nBedrooms: 3\\nBathrooms: 2\\nHouse Size (in sqft): 2100\\nDescription: Welcome to this modern 3-bedroom, 2-bathroom home located in the desirable Silver Creek Estates neighborhood. This contemporary residence features an open floor plan, a gourmet kitchen, a sleek design, and a landscaped backyard with a patio. Enjoy the convenience and style of this Silver Creek Estates gem.\\nNeighborhood Description: Silver Creek Estates offers residents access to community parks, local cafes, and boutique shops. The neighborhood is known for its scenic walking trails, outdoor markets, and family-friendly events. Residents can take advantage of nearby golf courses, wellness centers, and recreational facilities. Experience modern living in Silver Creek Estates.'), Document(metadata={'source': 'listings_v1.csv', 'row': 24}, page_content='Neighborhood: Summit Ridge\\nPrice: 920000\\nBedrooms: 4\\nBathrooms: 3\\nHouse Size (in sqft): 2400\\nDescription: Indulge in luxury living in this 4-bedroom, 3-bathroom home perched atop Summit Ridge. Boasting panoramic city views, this residence features high-end finishes, a gourmet kitchen, a private deck, and a deluxe master suite. Ideal for those who appreciate contemporary design and sophistication, this Summit Ridge home offers comfort and style with a touch of elegance.\\nNeighborhood Description: Summit Ridge is an upscale neighborhood with exclusive boutiques, gourmet restaurants, and cultural attractions. Residents can enjoy private golf courses, country clubs, and spa facilities within the neighborhood. With sweeping views of the city skyline and close proximity to luxury shopping destinations, Summit Ridge epitomizes modern living at its finest.'), Document(metadata={'source': 'listings_v1.csv', 'row': 25}, page_content=\"Neighborhood: Forest Glen\\nPrice: 800000\\nBedrooms: 3\\nBathrooms: 2\\nHouse Size (in sqft): 2000\\nDescription: Discover serenity in this 3-bedroom, 2-bathroom home nestled in the tranquil Forest Glen neighborhood. Surrounded by lush greenery, this residence features vaulted ceilings, a modern kitchen, a deck for outdoor dining, and a cozy fireplace in the living room. Embrace the peaceful surroundings of Forest Glen in this charming retreat.\\nNeighborhood Description: Forest Glen is a nature lover's paradise, with access to hiking trails, bird-watching spots, and wildlife preserves. Residents can explore tranquil parks, participate in conservation efforts, and enjoy outdoor picnics in the wooded area. The neighborhood fosters a sense of peace and connection to nature, making it an ideal retreat from city life.\"), Document(metadata={'source': 'listings_v1.csv', 'row': 26}, page_content='Neighborhood: Willow Creek\\nPrice: 740000\\nBedrooms: 4\\nBathrooms: 3\\nHouse Size (in sqft): 2100\\nDescription: Welcome to this inviting 4-bedroom, 3-bathroom home located in the friendly Willow Creek neighborhood. This well-maintained residence features hardwood floors, a renovated kitchen, a cozy fireplace, and a landscaped backyard with a deck. Enjoy the warmth and comfort of this Willow Creek gem.\\nNeighborhood Description: Willow Creek offers residents access to scenic nature trails, community parks, and local cafes. The neighborhood is known for its tree-lined streets, family-friendly')]\n"
     ]
    }
   ],
   "source": [
    "# If using a pandas DataFrame, this would do it.\n",
    "# df = pd.read_csv(LISTINGS_FILE)\n",
    "\n",
    "# We are going to use LangChain, so we do this:\n",
    "loader = CSVLoader(file_path=LISTINGS_FILE, encoding=\"utf-8\", csv_args={\"delimiter\": \",\"})\n",
    "docs = loader.load()\n",
    "print(docs)\n"
   ]
  },
  {
   "cell_type": "markdown",
   "id": "a7c89827",
   "metadata": {},
   "source": [
    "## Storing Listings in a Vector Database\n",
    "We now have loaded the generated listings and want to store them in a vector database."
   ]
  },
  {
   "cell_type": "code",
   "execution_count": null,
   "id": "7b77bc19",
   "metadata": {},
   "outputs": [],
   "source": [
    "embeddings = OpenAIEmbeddings(\n",
    "    openai_api_key=openai_api_key,\n",
    "    openai_api_base=openai_api_base,\n",
    "    model=EMBEDDINGS_MODEL_NAME,\n",
    "    #chunk_size=1,  # This is important for Chroma\n",
    "    max_retries=3, # Number of retries for embedding requests\n",
    "    request_timeout=60, # Timeout for embedding requests\n",
    ")\n",
    "# Splitting the data to make embeddings more efficient\n",
    "splitter = CharacterTextSplitter(\n",
    "                chunk_size=1000,\n",
    "                chunk_overlap=0\n",
    "            )\n",
    "split_docs = splitter.split_documents(docs)\n",
    "db = Chroma.from_documents(split_docs, embeddings)\n"
   ]
  },
  {
   "cell_type": "markdown",
   "id": "805d9dc3",
   "metadata": {},
   "source": [
    "## Building the User Preference Interface\n",
    "We now collect user preferences. We can either use hard-coded question and answer pairs, or generate them, interactively, at runtime."
   ]
  },
  {
   "cell_type": "code",
   "execution_count": 3,
   "id": "73acb66e",
   "metadata": {},
   "outputs": [],
   "source": [
    "questions = [   \n",
    "    \"How big do you want your house to be?\",\n",
    "    \"What are 3 most important things for you in choosing this property?\", \n",
    "    \"Which amenities would you like?\", \n",
    "    \"Which transportation options are important to you?\",\n",
    "    \"How urban do you want your neighborhood to be?\",   \n",
    "    \"Do you have an upper price target?\",   \n",
    "]\n",
    "\n",
    "answers = []\n",
    "if COLLECT_USER_PREFERENCES:\n",
    "    # Collect user preferences interactively\n",
    "    for question in questions:\n",
    "        answer = input(question + \" \")\n",
    "        answers.append(answer)\n",
    "else:\n",
    "    answers = [\n",
    "        \"A comfortable three-bedroom house with a spacious kitchen and a cozy living room.\",\n",
    "        \"A quiet neighborhood, good local schools, and convenient shopping options.\",\n",
    "        \"A backyard for gardening, a two-car garage, and a modern, energy-efficient heating system.\",\n",
    "        \"Easy access to a reliable bus line, proximity to a major highway, and bike-friendly roads.\",\n",
    "        \"A balance between suburban tranquility and access to urban amenities like restaurants and theaters.\",\n",
    "        \"It should be under $1,000,000.\"\n",
    "    ]"
   ]
  },
  {
   "cell_type": "markdown",
   "id": "96847341",
   "metadata": {},
   "source": [
    "## Searching based on preferences"
   ]
  },
  {
   "cell_type": "code",
   "execution_count": null,
   "id": "9715ef03",
   "metadata": {},
   "outputs": [
    {
     "name": "stdout",
     "output_type": "stream",
     "text": [
      "['At least 4 bedrooms, a nice living room with an open kitchen, and some storage areas', 'It should be within walking distance to a supermarket, it should be nice and cosy, and it should be not too old', 'A garden and a good insulation or new heating system', 'Easy access to a bus line.', 'It should be possible to reach downtown in 10 minutes', '1 million dollars']\n"
     ]
    }
   ],
   "source": []
  },
  {
   "cell_type": "markdown",
   "id": "c826e7d7",
   "metadata": {},
   "source": [
    "## Personalize Listing Descriptions"
   ]
  },
  {
   "cell_type": "code",
   "execution_count": null,
   "id": "6eef13db",
   "metadata": {},
   "outputs": [],
   "source": []
  }
 ],
 "metadata": {
  "kernelspec": {
   "display_name": ".venv",
   "language": "python",
   "name": "python3"
  },
  "language_info": {
   "codemirror_mode": {
    "name": "ipython",
    "version": 3
   },
   "file_extension": ".py",
   "mimetype": "text/x-python",
   "name": "python",
   "nbconvert_exporter": "python",
   "pygments_lexer": "ipython3",
   "version": "3.11.9"
  }
 },
 "nbformat": 4,
 "nbformat_minor": 5
}
