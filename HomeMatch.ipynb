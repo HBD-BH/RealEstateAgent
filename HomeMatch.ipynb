{
 "cells": [
  {
   "cell_type": "markdown",
   "id": "a108af04",
   "metadata": {},
   "source": [
    "# Personalized Real-Estate Agent\n",
    "\n",
    "In this notebook, we will build a personalized real-estate agent. \n"
   ]
  },
  {
   "cell_type": "markdown",
   "id": "59c7b2c5",
   "metadata": {},
   "source": [
    "## Import statements and configuration"
   ]
  },
  {
   "cell_type": "code",
   "execution_count": 11,
   "id": "6554fd4c",
   "metadata": {},
   "outputs": [
    {
     "name": "stdout",
     "output_type": "stream",
     "text": [
      "Using API key from the `.env` file. - You're all set.\n"
     ]
    }
   ],
   "source": [
    "import os\n",
    "from dotenv import load_dotenv\n",
    "load_dotenv()\n",
    "\n",
    "openai_api_key = os.getenv(\"OPENAI_API_KEY\")\n",
    "\n",
    "if openai_api_key is not None:\n",
    "    print(f\"Using API key from the `.env` file. - You're all set.\")\n",
    "else:\n",
    "    print(\"OPENAI_API_KEY not found in environment variable. - Please set it up in the `.env` file.\")\n",
    "\n",
    "from openai import OpenAI\n",
    "client = OpenAI(\n",
    "    base_url = \"https://openai.vocareum.com/v1\",\n",
    "    api_key = openai_api_key,\n",
    ")\n",
    "\n",
    "MODEL_NAME = \"gpt-3.5-turbo\"\n",
    "version = \"v1\"      # To make file names etc. unique\n",
    "LISTINGS_FILE = f\"listings_{version}.csv\"\n",
    "\n",
    "from langchain.llms import OpenAI\n",
    "\n",
    "import pandas as pd\n",
    "import numpy as np\n",
    "\n"
   ]
  },
  {
   "cell_type": "markdown",
   "id": "f1f103f0",
   "metadata": {},
   "source": [
    "## Generating Real Estate Listings\n",
    "\n",
    "First, we generate some fantasy listings using an LLM. The one example given is: "
   ]
  },
  {
   "cell_type": "code",
   "execution_count": 7,
   "id": "53a8aa68",
   "metadata": {},
   "outputs": [
    {
     "name": "stdout",
     "output_type": "stream",
     "text": [
      "\n",
      "Please generate 30 real estate listings in the same format as the example below. The listings should be diverse and include various neighborhoods, prices, and features. Each listing should have a unique neighborhood description that highlights local amenities and attractions.\n",
      "Listing features: \n",
      "Neighborhood, Price, Bedrooms, Bathrooms, House Size (in sqft), Description, Neighborhood Description\n",
      "Example Listing:\n",
      "\n",
      "\"Green Oaks\",800000,3,2,2000,\"Welcome to this eco-friendly oasis nestled in the heart of Green Oaks. This charming 3-bedroom, 2-bathroom home boasts energy-efficient features such as solar panels and a well-insulated structure. Natural light floods the living spaces, highlighting the beautiful hardwood floors and eco-conscious finishes. The open-concept kitchen and dining area lead to a spacious backyard with a vegetable garden, perfect for the eco-conscious family. Embrace sustainable living without compromising on style in this Green Oaks gem.\",\"Green Oaks is a close-knit, environmentally-conscious community with access to organic grocery stores, community gardens, and bike paths. Take a stroll through the nearby Green Oaks Park or grab a cup of coffee at the cozy Green Bean Cafe. With easy access to public transportation and bike lanes, commuting is a breeze.\"\n",
      "\n",
      "\n"
     ]
    },
    {
     "ename": "NameError",
     "evalue": "name 'MODEL_NAME' is not defined",
     "output_type": "error",
     "traceback": [
      "\u001b[31m---------------------------------------------------------------------------\u001b[39m",
      "\u001b[31mNameError\u001b[39m                                 Traceback (most recent call last)",
      "\u001b[36mCell\u001b[39m\u001b[36m \u001b[39m\u001b[32mIn[7]\u001b[39m\u001b[32m, line 29\u001b[39m\n\u001b[32m     21\u001b[39m \u001b[38;5;28mprint\u001b[39m(user_prompt)\n\u001b[32m     23\u001b[39m messages = [\n\u001b[32m     24\u001b[39m     {\u001b[33m\"\u001b[39m\u001b[33mrole\u001b[39m\u001b[33m\"\u001b[39m: \u001b[33m\"\u001b[39m\u001b[33msystem\u001b[39m\u001b[33m\"\u001b[39m, \u001b[33m\"\u001b[39m\u001b[33mcontent\u001b[39m\u001b[33m\"\u001b[39m: system_prompt},\n\u001b[32m     25\u001b[39m     {\u001b[33m\"\u001b[39m\u001b[33mrole\u001b[39m\u001b[33m\"\u001b[39m: \u001b[33m\"\u001b[39m\u001b[33muser\u001b[39m\u001b[33m\"\u001b[39m, \u001b[33m\"\u001b[39m\u001b[33mcontent\u001b[39m\u001b[33m\"\u001b[39m: user_prompt}\n\u001b[32m     26\u001b[39m ]\n\u001b[32m     28\u001b[39m response = client.responses.create(\n\u001b[32m---> \u001b[39m\u001b[32m29\u001b[39m     model=\u001b[43mMODEL_NAME\u001b[49m,\n\u001b[32m     30\u001b[39m     messages=messages,\n\u001b[32m     31\u001b[39m )\n\u001b[32m     32\u001b[39m \u001b[38;5;28mprint\u001b[39m(response.choices[\u001b[32m0\u001b[39m].message[\u001b[33m'\u001b[39m\u001b[33mcontent\u001b[39m\u001b[33m'\u001b[39m])\n\u001b[32m     33\u001b[39m \u001b[38;5;28mprint\u001b[39m(response.output_text)\n",
      "\u001b[31mNameError\u001b[39m: name 'MODEL_NAME' is not defined"
     ]
    }
   ],
   "source": [
    "listing_elements = [\"Neighborhood\", \"Price\", \"Bedrooms\", \"Bathrooms\", \"House Size (in sqft)\", \"Description\", \"Neighborhood Description\"]\n",
    "\n",
    "listing_elements_text = \", \".join(listing_elements)\n",
    "\n",
    "example_listing = \"\"\"\n",
    "\"Green Oaks\",800000,3,2,2000,\"Welcome to this eco-friendly oasis nestled in the heart of Green Oaks. This charming 3-bedroom, 2-bathroom home boasts energy-efficient features such as solar panels and a well-insulated structure. Natural light floods the living spaces, highlighting the beautiful hardwood floors and eco-conscious finishes. The open-concept kitchen and dining area lead to a spacious backyard with a vegetable garden, perfect for the eco-conscious family. Embrace sustainable living without compromising on style in this Green Oaks gem.\",\"Green Oaks is a close-knit, environmentally-conscious community with access to organic grocery stores, community gardens, and bike paths. Take a stroll through the nearby Green Oaks Park or grab a cup of coffee at the cozy Green Bean Cafe. With easy access to public transportation and bike lanes, commuting is a breeze.\"\n",
    "\"\"\"\n",
    "\n",
    "num_listings = 30\n",
    "system_prompt = f\"\"\"\n",
    "You are a real-estate listing generator. Your task is to create realistic and diverse real estate listings based on the provided example. Each listing should include the following fields: Neighborhood, Price, Bedrooms, Bathrooms, House Size (in sqft), Description, and Neighborhood Description. The listings should be varied in terms of price, size, and neighborhood features.\n",
    "\"\"\"\n",
    "\n",
    "user_prompt = f\"\"\"\n",
    "Please generate {num_listings} real estate listings in the same format as the example below. The listings should be diverse and include various neighborhoods, prices, and features. Each listing should have a unique neighborhood description that highlights local amenities and attractions.\n",
    "Listing features: \n",
    "{listing_elements_text}\n",
    "Example Listing:\n",
    "{example_listing}\n",
    "\"\"\"\n",
    "print(user_prompt)\n",
    "\n",
    "messages = [\n",
    "    {\"role\": \"system\", \"content\": system_prompt},\n",
    "    {\"role\": \"user\", \"content\": user_prompt}\n",
    "]\n",
    "\n",
    "response = client.responses.create(\n",
    "    model=MODEL_NAME,\n",
    "    messages=messages,\n",
    ")\n",
    "print(response.choices[0].message['content'])\n",
    "print(response.output_text)\n",
    "\n"
   ]
  },
  {
   "cell_type": "markdown",
   "id": "93e31bb4",
   "metadata": {},
   "source": [
    "Next, we store the listings as a `.csv` file in order to retrieve them later."
   ]
  },
  {
   "cell_type": "code",
   "execution_count": null,
   "id": "2b7c0454",
   "metadata": {},
   "outputs": [],
   "source": []
  },
  {
   "cell_type": "markdown",
   "id": "b758ec78",
   "metadata": {},
   "source": [
    "If the listings are already generated, we can just read them from the csv file:"
   ]
  },
  {
   "cell_type": "code",
   "execution_count": null,
   "id": "c9e913bb",
   "metadata": {},
   "outputs": [],
   "source": [
    "df = pd.read_csv(LISTINGS_FILE)"
   ]
  },
  {
   "cell_type": "markdown",
   "id": "a7c89827",
   "metadata": {},
   "source": [
    "## Storing Listings in a Vector Database"
   ]
  },
  {
   "cell_type": "code",
   "execution_count": null,
   "id": "15e85ca2",
   "metadata": {},
   "outputs": [],
   "source": []
  },
  {
   "cell_type": "markdown",
   "id": "805d9dc3",
   "metadata": {},
   "source": [
    "## Building the User Preference Interface"
   ]
  },
  {
   "cell_type": "code",
   "execution_count": null,
   "id": "73acb66e",
   "metadata": {},
   "outputs": [],
   "source": []
  },
  {
   "cell_type": "markdown",
   "id": "96847341",
   "metadata": {},
   "source": [
    "## Searching based on preferences"
   ]
  },
  {
   "cell_type": "code",
   "execution_count": null,
   "id": "9715ef03",
   "metadata": {},
   "outputs": [],
   "source": []
  },
  {
   "cell_type": "markdown",
   "id": "c826e7d7",
   "metadata": {},
   "source": [
    "## Personalize Listing Descriptions"
   ]
  },
  {
   "cell_type": "code",
   "execution_count": null,
   "id": "6eef13db",
   "metadata": {},
   "outputs": [],
   "source": []
  }
 ],
 "metadata": {
  "kernelspec": {
   "display_name": ".venv",
   "language": "python",
   "name": "python3"
  },
  "language_info": {
   "codemirror_mode": {
    "name": "ipython",
    "version": 3
   },
   "file_extension": ".py",
   "mimetype": "text/x-python",
   "name": "python",
   "nbconvert_exporter": "python",
   "pygments_lexer": "ipython3",
   "version": "3.11.9"
  }
 },
 "nbformat": 4,
 "nbformat_minor": 5
}
